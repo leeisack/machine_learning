{
 "cells": [
  {
   "cell_type": "code",
   "execution_count": 1,
   "metadata": {},
   "outputs": [],
   "source": [
    "# 경고메시지 무시\n",
    "import warnings\n",
    "\n",
    "warnings.filterwarnings(\"ignore\")"
   ]
  },
  {
   "cell_type": "markdown",
   "metadata": {},
   "source": [
    "## 1. 문제 정의\n",
    "\n",
    "- 무얼 할 것인지 (What)\n",
    "- 어떻게 할 것인지 (How)\n",
    "- 왜 하는지 (Why)\n",
    "- 어느 데이터를 사용할 것인지 (Which)"
   ]
  },
  {
   "cell_type": "markdown",
   "metadata": {},
   "source": [
    "## 2. 데이터 수집\n",
    "\n",
    "- 공공데이터 활용\n",
    "- 크롤링을 통해 직접 수집\n",
    "- 설문조사를 통해 직접 수집\n",
    "- 전화 등을 통해 수집"
   ]
  },
  {
   "cell_type": "markdown",
   "metadata": {},
   "source": [
    "### 보스톤 집값 데이터 셋"
   ]
  },
  {
   "cell_type": "code",
   "execution_count": 2,
   "metadata": {},
   "outputs": [],
   "source": [
    "from sklearn.datasets import load_boston\n",
    "\n",
    "# 데이터 로드"
   ]
  },
  {
   "cell_type": "code",
   "execution_count": 3,
   "metadata": {
    "scrolled": true
   },
   "outputs": [],
   "source": [
    "# 딕셔너리로 된 데이터를 데이터프레임으로 변경\n",
    "import pandas as pd\n"
   ]
  },
  {
   "cell_type": "code",
   "execution_count": 4,
   "metadata": {},
   "outputs": [],
   "source": [
    "# !pip install mglearn"
   ]
  },
  {
   "cell_type": "markdown",
   "metadata": {},
   "source": [
    "### 확장 보스톤 집값 데이터 셋"
   ]
  },
  {
   "cell_type": "code",
   "execution_count": 5,
   "metadata": {},
   "outputs": [],
   "source": [
    "import mglearn\n",
    "from mglearn.datasets import load_extended_boston\n",
    "\n",
    "# 데이터 로드\n",
    "\n",
    "# 데이터프레임으로 변경\n"
   ]
  },
  {
   "cell_type": "markdown",
   "metadata": {},
   "source": [
    "### wine 데이터셋"
   ]
  },
  {
   "cell_type": "code",
   "execution_count": 6,
   "metadata": {},
   "outputs": [],
   "source": [
    "import pandas as pd\n",
    "\n",
    "# 파일데이터 로드"
   ]
  },
  {
   "cell_type": "code",
   "execution_count": 7,
   "metadata": {},
   "outputs": [],
   "source": [
    "# 도수(10)를 Y로 사용\n"
   ]
  },
  {
   "cell_type": "markdown",
   "metadata": {},
   "source": [
    "## 3. 데이터 분석 (시각화, EDA - 탐색적 데이터분석)\n",
    "\n",
    "- 데이터를 세부적으로 살펴보는 것 <br> \n",
    "  (결측치, 이상치, 데이터분포, 라벨의 분포, 범주형 데이터의 종류 등 확인)\n",
    "- 데이터를 시각화\n",
    "- 데이터를 어떻게 수정할 것인지 결정"
   ]
  },
  {
   "cell_type": "markdown",
   "metadata": {},
   "source": [
    "#### heatmap\n",
    "\n",
    "- Target Feature와 나머지 독립변수들의 상관계수를 직관적으로 확인\n",
    "- 데이터.corr() : heatmap에 사용할 데이터의 상관계수"
   ]
  },
  {
   "cell_type": "code",
   "execution_count": 8,
   "metadata": {},
   "outputs": [],
   "source": [
    "import seaborn as sb\n",
    "import matplotlib.pyplot as plt\n",
    "\n",
    "# heatmap\n"
   ]
  },
  {
   "cell_type": "code",
   "execution_count": 9,
   "metadata": {},
   "outputs": [],
   "source": [
    "# 결측치 확인\n"
   ]
  },
  {
   "cell_type": "code",
   "execution_count": 10,
   "metadata": {},
   "outputs": [],
   "source": [
    "# 이상치 확인\n"
   ]
  },
  {
   "cell_type": "markdown",
   "metadata": {},
   "source": [
    "## 4. 데이터 전처리 / 특성공학 \n",
    "\n",
    "- 데이터를 목적에 맞게 변경\n",
    "- 결측치, 이상치 제거\n",
    "- 데이터 정재 (틀린 데이터를 수정)\n",
    "- 특성 선택 (어떤 특성을 사용할 것인지 선택)\n",
    "- 스케일링 (숫자형 데이터를 일정 범위로 변경)\n",
    "- 일반화 (데이터를 정규분포로 변경)\n",
    "- 정규화 (범주형 데이터의 class의 수를 변경 - 감소)\n",
    "- 범주형 데이터를 숫자로 변경 (one-hot-encoding)\n",
    "- 훈련데이터와 테스트데이터로 분리"
   ]
  },
  {
   "cell_type": "markdown",
   "metadata": {},
   "source": [
    "#### 훈련 데이터와 테스트 데이터 분리"
   ]
  },
  {
   "cell_type": "code",
   "execution_count": 11,
   "metadata": {},
   "outputs": [],
   "source": [
    "from sklearn.model_selection import train_test_split\n"
   ]
  },
  {
   "cell_type": "markdown",
   "metadata": {},
   "source": [
    "## 5. 모델 선택 및 학습\n",
    "\n",
    "- 좋은 모델을 선택\n",
    "- 학습 -> fit()"
   ]
  },
  {
   "cell_type": "markdown",
   "metadata": {},
   "source": [
    "### KNN"
   ]
  },
  {
   "cell_type": "code",
   "execution_count": 12,
   "metadata": {
    "scrolled": true
   },
   "outputs": [],
   "source": [
    "from sklearn.neighbors import KNeighborsRegressor\n",
    "\n",
    "# model_knn"
   ]
  },
  {
   "cell_type": "markdown",
   "metadata": {},
   "source": [
    "###  Linear Regression"
   ]
  },
  {
   "cell_type": "code",
   "execution_count": 13,
   "metadata": {
    "scrolled": true
   },
   "outputs": [],
   "source": [
    "from sklearn.linear_model import LinearRegression\n",
    "\n",
    "# model_lr"
   ]
  },
  {
   "cell_type": "markdown",
   "metadata": {},
   "source": [
    "### Ridge\n",
    "\n",
    "- L2 규제 : 큰 값은 줄이고 작은 값은 크게하여 feature가 적은 경우에 숫자가 작은 feature도 학습에 참여할 수 있게 함\n",
    "- alpha 값으로 설정"
   ]
  },
  {
   "cell_type": "code",
   "execution_count": 14,
   "metadata": {},
   "outputs": [],
   "source": [
    "from sklearn.linear_model import Ridge\n",
    "\n",
    "# model_ridge"
   ]
  },
  {
   "cell_type": "markdown",
   "metadata": {},
   "source": [
    "### Lasso\n",
    "\n",
    "- L1 규제 : feature가 많은 경우 크기가 작은 feature를 버리고 학습하는 것\n",
    "- alpha 값으로 설정\n",
    "- feature selection에서 사용"
   ]
  },
  {
   "cell_type": "code",
   "execution_count": 15,
   "metadata": {
    "scrolled": true
   },
   "outputs": [],
   "source": [
    "from sklearn.linear_model import Lasso\n",
    "\n",
    "# model_lasso"
   ]
  },
  {
   "cell_type": "markdown",
   "metadata": {},
   "source": [
    "### SVM\n",
    "\n",
    "- 전처리로 스케일링이 필요"
   ]
  },
  {
   "cell_type": "code",
   "execution_count": 16,
   "metadata": {
    "scrolled": true
   },
   "outputs": [],
   "source": [
    "from sklearn.svm import SVR, LinearSVR\n",
    "\n",
    "# model_svr\n",
    "\n",
    "# model_lsvr"
   ]
  },
  {
   "cell_type": "markdown",
   "metadata": {},
   "source": [
    "## 6. 평가\n",
    "\n",
    "- MSE / RMSE : mean_squared_error()\n",
    "-  R^2 점수 -> score(), r2_score() <br>\n",
    "(정밀도(R^2) : 평균 모델과 비교하여 얼마나 유사한지를 평가)\n",
    "- 교차검증"
   ]
  },
  {
   "cell_type": "code",
   "execution_count": 17,
   "metadata": {},
   "outputs": [],
   "source": [
    "from sklearn.metrics import mean_squared_error\n",
    "import numpy as np\n",
    "\n",
    "# KNN, 선형회귀, Ridge, Lasso, SVR, LinearSVR MSE 오차점수 확인"
   ]
  },
  {
   "cell_type": "markdown",
   "metadata": {},
   "source": [
    "## 7. 모델 개선\n",
    "\n",
    "- 파라미터 튜닝 -> GridSearchCV()\n",
    "- 모델을 중복해서 사용 -> Stacking, Pipeline()"
   ]
  },
  {
   "cell_type": "markdown",
   "metadata": {},
   "source": [
    "#### 파라미터 튜닝"
   ]
  },
  {
   "cell_type": "code",
   "execution_count": 18,
   "metadata": {},
   "outputs": [],
   "source": [
    "import matplotlib.pyplot as plt\n",
    "\n",
    "# KNeighborsClassifier의 n_neighbors 파라메터의 이웃 수 변화에 따른 RMSE 오차 변화\n"
   ]
  },
  {
   "cell_type": "code",
   "execution_count": 19,
   "metadata": {},
   "outputs": [],
   "source": [
    "# 최적의 alpha값은? (Ridge, Lasso)\n",
    "import matplotlib.pyplot as plt\n",
    "\n",
    "train_error = []\n",
    "test_error = []\n"
   ]
  },
  {
   "cell_type": "markdown",
   "metadata": {},
   "source": [
    "## 8. 예측"
   ]
  },
  {
   "cell_type": "code",
   "execution_count": 20,
   "metadata": {},
   "outputs": [],
   "source": [
    "# KNN \n",
    "# print(\"실제값 : \", )\n",
    "# print(\"예측값 : \", )"
   ]
  }
 ],
 "metadata": {
  "kernelspec": {
   "display_name": "Python 3",
   "language": "python",
   "name": "python3"
  },
  "language_info": {
   "codemirror_mode": {
    "name": "ipython",
    "version": 3
   },
   "file_extension": ".py",
   "mimetype": "text/x-python",
   "name": "python",
   "nbconvert_exporter": "python",
   "pygments_lexer": "ipython3",
   "version": "3.7.6"
  }
 },
 "nbformat": 4,
 "nbformat_minor": 2
}
