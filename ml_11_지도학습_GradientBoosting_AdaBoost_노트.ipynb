{
 "cells": [
  {
   "cell_type": "markdown",
   "metadata": {
    "colab_type": "text",
    "id": "Ipt6ue55R005",
    "slideshow": {
     "slide_type": "slide"
    }
   },
   "source": [
    "## Boosting \n",
    "\n",
    "- 여러 개의 분류기가 순차적으로 학습을 수행하되, 앞에서 학습한 분류기가 예측이 틀린 데이터에 대해서 올바르게 예측할 수 있도록 다음 분류기에게 가중치(weight)를 부여하면서 학습과 예측을 진행\n",
    "\n",
    "- 분류기에 약한 학습기를 사용\n",
    "\n",
    "- 약한 학습기 : 예측 성능이 상대적으로 떨어지는 학습 알고리즘, 결정트리가 좋은 예"
   ]
  },
  {
   "cell_type": "markdown",
   "metadata": {
    "colab_type": "text",
    "id": "vtDYsRHyGCk-",
    "slideshow": {
     "slide_type": "slide"
    }
   },
   "source": [
    "# GradientBoosting \n",
    "\n",
    "- 여러 개의 결정 트리를 묶어 강력한 모델을 만드는앙상블 방법\n",
    "\n",
    "- 회귀와 분류 모두에 사용\n",
    "\n",
    "- 랜덤 포레스트와는 달리 그래디언트 부스팅은 이전 트리의 오차를 보완하는 방식으로 순차적으로 트리를 만듬 (무작위성이 없음)\n",
    "\n",
    "- 강력한 사전 가지치기가 사용\n",
    "\n",
    "- 보통 다섯 개 이하 깊이의 트리를 사용하므로 메모리를 적게 사용하고 예측도 빠름\n",
    "\n",
    "- 각각의 트리는 데이터의 일부에 대해서만 예측을 잘 수행할 수 있어서 트리가 많이 추가될수록 성능이 좋아짐\n",
    "\n",
    "-  랜덤 포레스트보다는 매개변수 설정에 조금 더 민감하지만 잘 조정하면 더 높은 정확도를 제공\n",
    "\n",
    "-  learning_rate : 이전 트리의 오차를 얼마나 강하게 보정할 것인지를 제어 <br>\n",
    "(가중치를 계산하는 방식에서 경사하강법를 이용하여 최적의 가중치(파라미터)를 찾아냄)\n",
    "\n",
    "- 학습률이 크면 트리는 보정을 강하게 하기 때문에 복잡한 모델을 만듬\n",
    "\n",
    "- n_estimators 값을 키우면 앙상블에 트리가 더 많이 추가되어 모델의 복잡도가 커지고 훈련 세트에서의 실수를 바로잡을 기회가 더 많아짐"
   ]
  },
  {
   "cell_type": "markdown",
   "metadata": {
    "colab_type": "text",
    "id": "iSAsw-QKZl8w",
    "slideshow": {
     "slide_type": "slide"
    }
   },
   "source": [
    "[GradientBoostingClassifier()](https://scikit-learn.org/stable/modules/generated/sklearn.ensemble.GradientBoostingClassifier.html)\n",
    "\n",
    "주요 매개변수(Hyperparameter)\n",
    "\n",
    "- n_estimators  : 생성할 트리의 개수 (트리가 많아질 수록 과대적합 가능성 증가)\n",
    "\n",
    "- learning_rate : 오차를 보정하는 정도 (값이 높을 수록 오차를 많이 보정하려고 함 )\n",
    "\n",
    "- max_depth : 트리의 최대 깊이 (일반적으로 트리의 깊이를 깊게 설정하지 않음)\n"
   ]
  },
  {
   "cell_type": "markdown",
   "metadata": {
    "colab_type": "text",
    "id": "K1gmdPTrH2lc",
    "slideshow": {
     "slide_type": "slide"
    }
   },
   "source": [
    "#### GradientBoosting 실습 01\n",
    "\n",
    "유방암 데이터 적용"
   ]
  },
  {
   "cell_type": "code",
   "execution_count": 1,
   "metadata": {
    "colab": {
     "base_uri": "https://localhost:8080/",
     "height": 318
    },
    "colab_type": "code",
    "executionInfo": {
     "elapsed": 1756,
     "status": "ok",
     "timestamp": 1597070283318,
     "user": {
      "displayName": "oz To",
      "photoUrl": "",
      "userId": "12937505880450462933"
     },
     "user_tz": -540
    },
    "id": "6bPWHczHOsL7",
    "outputId": "8596a653-24ce-4f88-ce95-35c6bf5f05d7",
    "slideshow": {
     "slide_type": "slide"
    }
   },
   "outputs": [],
   "source": [
    "from sklearn.model_selection import train_test_split\n",
    "from sklearn.ensemble import GradientBoostingClassifier\n",
    "from sklearn.datasets import load_breast_cancer\n",
    "\n",
    "# 데이터 로드\n",
    "cancer = load_breast_cancer()\n",
    "\n",
    "X_train, X_test, y_train, y_test = train_test_split(cancer.data, \n",
    "                                                    cancer.target, \n",
    "                                                    random_state=0)\n",
    "\n",
    "# 모델 학습\n",
    "\n",
    "# 평가\n",
    "\n",
    "# 특성 중요도 시각화\n",
    "import seaborn as sns\n"
   ]
  },
  {
   "cell_type": "markdown",
   "metadata": {
    "colab_type": "text",
    "id": "JD5-rzmZIH_r"
   },
   "source": [
    "- 훈련 세트의 정확도가 100%이므로 과대적합\n",
    "- 과대적합을 막기 위해서 트리의 최대 깊이를 줄여 사전 가지치기를 강하게 하거나 학습률을 낮출 수 있음"
   ]
  },
  {
   "cell_type": "code",
   "execution_count": 2,
   "metadata": {
    "colab": {
     "base_uri": "https://localhost:8080/",
     "height": 318
    },
    "colab_type": "code",
    "executionInfo": {
     "elapsed": 2437,
     "status": "ok",
     "timestamp": 1597070284012,
     "user": {
      "displayName": "oz To",
      "photoUrl": "",
      "userId": "12937505880450462933"
     },
     "user_tz": -540
    },
    "id": "cjS7YY8IO1LH",
    "outputId": "289a3433-1f2d-4ec3-8ed1-5cf9d3d1e6b0",
    "slideshow": {
     "slide_type": "slide"
    }
   },
   "outputs": [],
   "source": [
    "# 트리의 최대 깊이를 줄여 사전 가지치기를 강하게한 경우\n",
    "# 모델 학습\n",
    "\n",
    "# 평가\n",
    "\n",
    "# 특성 중요도 시각화\n"
   ]
  },
  {
   "cell_type": "code",
   "execution_count": 3,
   "metadata": {
    "colab": {
     "base_uri": "https://localhost:8080/",
     "height": 318
    },
    "colab_type": "code",
    "executionInfo": {
     "elapsed": 3152,
     "status": "ok",
     "timestamp": 1597070284739,
     "user": {
      "displayName": "oz To",
      "photoUrl": "",
      "userId": "12937505880450462933"
     },
     "user_tz": -540
    },
    "id": "Krc0EbhSIUsh",
    "outputId": "559a6692-e9f0-400c-a2df-ee2855b53b1c",
    "slideshow": {
     "slide_type": "slide"
    }
   },
   "outputs": [],
   "source": [
    "# 학습률을 조정한 경우\n",
    "# 모델 학습\n",
    "\n",
    "# 평가\n",
    "\n",
    "# 특성 중요도 시각화\n"
   ]
  },
  {
   "cell_type": "markdown",
   "metadata": {
    "colab_type": "text",
    "id": "1tPyY4kvIfu9",
    "slideshow": {
     "slide_type": "slide"
    }
   },
   "source": [
    "- 두 방식은 모델의 복잡도를 감소시키므로 예상대로 훈련 세트의 정확도가 낮아짐\n",
    "- 학습률을 낮추는 것은 테스트 세트의 성능을 조금밖에 개선하지 못했지만, 트리의 최대 깊이를 낮추는 것은 모델 성능 향상에 크게 기여"
   ]
  },
  {
   "cell_type": "markdown",
   "metadata": {
    "colab_type": "text",
    "id": "KUmNFcQ2Jg6m",
    "slideshow": {
     "slide_type": "slide"
    }
   },
   "source": [
    "- 그래디언트 부스팅 트리의 특성 중요도 그래프가 랜덤 포레스트의 특성 중요도와 비슷하지만 그래디언트 부스팅은 일부 특성을 완전히 무시하고 있음\n",
    "\n",
    "- 일반적으로 더 안정적인 랜덤 포레스트를 먼저 적용\n",
    "\n",
    "- 예측 시간이 중요하거나 머신러닝 모델에서 마지막 성능까지 쥐어짜야 할 때 그래디언트 부스팅을 사용\n",
    "\n",
    "- 대규모 머신러닝 문제에 그래디언트 부스팅을 적용하려면 xgboost 패키지를 사용"
   ]
  },
  {
   "cell_type": "markdown",
   "metadata": {
    "colab_type": "text",
    "id": "GR3M0JzqJ3uc",
    "slideshow": {
     "slide_type": "slide"
    }
   },
   "source": [
    "## 장단점\n",
    "\n",
    "- 지도 학습에서 가장 강력하고 널리 사용하는 모델 중 하나\n",
    "\n",
    "- 가장 큰 단점은 매개변수를 잘 조정해야 한다는 것과 훈련 시간이 길다는 것\n",
    "\n",
    "- 다른 트리 기반 모델처럼 특성의 스케일을 조정하지 않아도 되고 이진 특성이나 연속적인 특성에서도 잘 동작\n",
    "\n",
    "- 트리 기반 모델의 특성상 희소한 고차원 데이터에는 잘 작동하지 않음\n",
    "\n",
    "- 중요 매개변수 : 트리의 개수를 지정하는 <font color=blue>n_estimators</font>, 이전 트리의 오차를 보정하는 정도를 조절하는 <font color=blue>learning_rate</font>\n",
    "\n",
    "- 두 매개변수는 깊게 연관되며 learning_rate를 낮추면 비슷한 복잡도의 모델을 만들기 위해서 더 많은 트리를 추가해야 함\n",
    "\n",
    "- n_estimators가 클수록 좋은 랜덤 포레스트와는 달리 그래디언트 부스팅에서 n_estimators를 크게 하면 모델이 복잡해지고 과대적합될 가능성이 높아짐\n",
    "\n",
    "- 일반적인 관례는 가용한 시간과 메모리 한도에서 n_estimators를 맞추고 나서 적절한 learning_rate를 찾는 것\n",
    "\n",
    "- 중요한 또 다른 매개변수는 각 트리의 복잡도를 낮추는 <font color=blue>max_depth</font>(또는 <font color=blue>max_leaf_nodes</font>)\n",
    "\n",
    "- 일반적으로 그래디언트 부스팅 모델에서는 max_depth를 매우 작게 설정하며 트리의 깊이가 5보다 깊어지지 않게 함."
   ]
  },
  {
   "cell_type": "markdown",
   "metadata": {
    "colab_type": "text",
    "id": "82J7acy_bpr1",
    "slideshow": {
     "slide_type": "slide"
    }
   },
   "source": [
    "# AdaBoost (Adaptive Boosting)\n",
    "\n",
    "- GradientBoosting 처럼 약한 학습기를 사용\n",
    "- 다른 점은 이전의 모델이 잘못 분류한 샘플에 가중치를 높여서 다음 모델을 훈련시킴\n",
    "- 훈련된 각 모델은 성능에 따라 가중치가 부여됨\n",
    "- 예측을 만들 때는 모델이 예측된 레이블을 기준으로 모델의 가중치를 합산하여 가장 높은 값을 가진 레이블을 선택\n",
    "\n",
    "- GradientBoosting와 마찬가지로 순차적으로 학습해야 하므로 n_jobs 매개변수는 지원하지 않음"
   ]
  },
  {
   "cell_type": "markdown",
   "metadata": {
    "colab_type": "text",
    "id": "mybZ3CGnf2dS",
    "slideshow": {
     "slide_type": "slide"
    }
   },
   "source": [
    "[AdaBoostClassifier()](https://scikit-learn.org/stable/modules/generated/sklearn.ensemble.AdaBoostClassifier.html)\n",
    "```\n",
    "AdaBoostClassifier(base_estimator=None, *, n_estimators=50, learning_rate=1.0, algorithm='SAMME.R', random_state=None)\n",
    "```\n",
    "- base_estimator : 앙상블이 구축되는 기본 추정기, 기본값으로 DecisionTreeClassifier(max_depth=1)를 사용\n",
    "- <font color=blue>n_estimators : 생성할 트리의 개수</font>\n",
    "- l<font color=blue>earning_rate : 학습률, 오차를 보정하는 정도</font>\n",
    "- algorithm : 부스팅 알고리즘, 기본값='SAMME.R'\n",
    "- random_state : 난수 seed 설정\n"
   ]
  },
  {
   "cell_type": "markdown",
   "metadata": {
    "colab_type": "text",
    "id": "wO_hNGTJc9v-",
    "slideshow": {
     "slide_type": "slide"
    }
   },
   "source": [
    "#### AdaBoost 실습 01\n",
    "\n",
    "two_moon 데이터 셋 적용"
   ]
  },
  {
   "cell_type": "code",
   "execution_count": 4,
   "metadata": {
    "colab": {},
    "colab_type": "code",
    "executionInfo": {
     "elapsed": 3151,
     "status": "ok",
     "timestamp": 1597070284740,
     "user": {
      "displayName": "oz To",
      "photoUrl": "",
      "userId": "12937505880450462933"
     },
     "user_tz": -540
    },
    "id": "fihEP9u8c0tG",
    "slideshow": {
     "slide_type": "slide"
    }
   },
   "outputs": [],
   "source": [
    "from sklearn.model_selection import train_test_split\n",
    "from sklearn.datasets import make_moons\n",
    "import matplotlib.pyplot as plt\n",
    "\n",
    "# 데이터 로드\n",
    "X, y = make_moons(n_samples=100, noise=0.25, random_state=3)\n",
    "X_train, X_test, y_train, y_test = train_test_split(X, \n",
    "                                                    y, \n",
    "                                                    stratify=y, \n",
    "                                                    random_state=42)"
   ]
  },
  {
   "cell_type": "code",
   "execution_count": 5,
   "metadata": {
    "colab": {
     "base_uri": "https://localhost:8080/",
     "height": 52
    },
    "colab_type": "code",
    "executionInfo": {
     "elapsed": 3145,
     "status": "ok",
     "timestamp": 1597070284741,
     "user": {
      "displayName": "oz To",
      "photoUrl": "",
      "userId": "12937505880450462933"
     },
     "user_tz": -540
    },
    "id": "YlQu0GzFcn4d",
    "outputId": "50096eae-a4fa-4551-d542-116bf4f57d92",
    "slideshow": {
     "slide_type": "slide"
    }
   },
   "outputs": [],
   "source": [
    "from sklearn.ensemble import AdaBoostClassifier\n",
    "\n",
    "# 모델 학습\n",
    "\n",
    "\n",
    "# 평가\n"
   ]
  },
  {
   "cell_type": "code",
   "execution_count": 6,
   "metadata": {
    "colab": {
     "base_uri": "https://localhost:8080/",
     "height": 303
    },
    "colab_type": "code",
    "executionInfo": {
     "elapsed": 6624,
     "status": "ok",
     "timestamp": 1597070288229,
     "user": {
      "displayName": "oz To",
      "photoUrl": "",
      "userId": "12937505880450462933"
     },
     "user_tz": -540
    },
    "id": "v-YaSsTteDV2",
    "outputId": "3b3d2b6b-0615-4c76-fde7-1649a7a134b4",
    "slideshow": {
     "slide_type": "skip"
    }
   },
   "outputs": [],
   "source": [
    "# !pip install mglearn"
   ]
  },
  {
   "cell_type": "code",
   "execution_count": 7,
   "metadata": {
    "colab": {
     "base_uri": "https://localhost:8080/",
     "height": 524
    },
    "colab_type": "code",
    "executionInfo": {
     "elapsed": 8380,
     "status": "ok",
     "timestamp": 1597070289992,
     "user": {
      "displayName": "oz To",
      "photoUrl": "",
      "userId": "12937505880450462933"
     },
     "user_tz": -540
    },
    "id": "5xskvw6EdF5f",
    "outputId": "cb154e70-0d40-4047-8a7e-8a8bdc4579a3",
    "slideshow": {
     "slide_type": "slide"
    }
   },
   "outputs": [],
   "source": [
    "import mglearn\n",
    "\n",
    "# 결정 경계 시각화\n",
    "\n",
    "\n",
    "# AdaBoost로 만들어진 결정경계\n"
   ]
  },
  {
   "cell_type": "markdown",
   "metadata": {
    "colab_type": "text",
    "id": "nEPHVCZIdLt4",
    "slideshow": {
     "slide_type": "slide"
    }
   },
   "source": [
    "- AdaBoostCalssifier는 깊이가 1인 결정트리를 사용하므로 각 트리의 결정 경계가 직선 하나 뿐임.\n",
    "- 아주 얕은 트리를 앙상블"
   ]
  },
  {
   "cell_type": "markdown",
   "metadata": {
    "colab_type": "text",
    "id": "U6qlUxuEeWS3",
    "slideshow": {
     "slide_type": "slide"
    }
   },
   "source": [
    "#### AdaBoost 실습 02\n",
    "\n",
    "유방암 데이터를 이용"
   ]
  },
  {
   "cell_type": "code",
   "execution_count": 8,
   "metadata": {
    "colab": {
     "base_uri": "https://localhost:8080/",
     "height": 52
    },
    "colab_type": "code",
    "executionInfo": {
     "elapsed": 9148,
     "status": "ok",
     "timestamp": 1597070290773,
     "user": {
      "displayName": "oz To",
      "photoUrl": "",
      "userId": "12937505880450462933"
     },
     "user_tz": -540
    },
    "id": "CNxMQaCqdb-J",
    "outputId": "a49b083b-a54b-4800-b68c-b1b18ac69a1a",
    "slideshow": {
     "slide_type": "slide"
    }
   },
   "outputs": [],
   "source": [
    "from sklearn.model_selection import train_test_split\n",
    "from sklearn.ensemble import AdaBoostClassifier\n",
    "from sklearn.datasets import load_breast_cancer\n",
    "\n",
    "# 데이터 로드\n",
    "cancer = load_breast_cancer()\n",
    "\n",
    "X_train, X_test, y_train, y_test = train_test_split(cancer.data, \n",
    "                                                    cancer.target, \n",
    "                                                    random_state=0)\n",
    "# 모델 학습\n",
    "\n",
    "\n",
    "# 평가\n"
   ]
  },
  {
   "cell_type": "code",
   "execution_count": 9,
   "metadata": {
    "colab": {
     "base_uri": "https://localhost:8080/",
     "height": 283
    },
    "colab_type": "code",
    "executionInfo": {
     "elapsed": 9139,
     "status": "ok",
     "timestamp": 1597070290773,
     "user": {
      "displayName": "oz To",
      "photoUrl": "",
      "userId": "12937505880450462933"
     },
     "user_tz": -540
    },
    "id": "cXA9vJATdoGn",
    "outputId": "292a00bd-d865-4555-ebf1-7c50cbf96738",
    "slideshow": {
     "slide_type": "slide"
    }
   },
   "outputs": [],
   "source": [
    "# 특성 중요도 시각화\n",
    "import seaborn as sns\n"
   ]
  },
  {
   "cell_type": "markdown",
   "metadata": {
    "colab_type": "text",
    "id": "Ed3tAzBjdtOW",
    "slideshow": {
     "slide_type": "slide"
    }
   },
   "source": [
    "- 다른 모델과는 달리 area erro를 크게 강조하고 있음"
   ]
  },
  {
   "cell_type": "markdown",
   "metadata": {
    "colab_type": "text",
    "id": "f0hU8Vcnfj_m",
    "slideshow": {
     "slide_type": "slide"
    }
   },
   "source": [
    "# XGBoost (extreme gradient boosting)\n",
    "\n",
    "- GBM을 개선하여 속도를 높인 것 (병렬 수행 및 다양한 기능으로)\n",
    "- 일반적인 GBM에 비해 수행 시간이 빠른 것이지 다른 머신러닝 알고리즘에 비해서 빠르다는 의미는 아님 (랜덤 포레스트)\n",
    "- 과적합 규제 기능 지원\n",
    "- 결손값을 자체 처리할 수 있는 기능 지원"
   ]
  },
  {
   "cell_type": "markdown",
   "metadata": {
    "colab_type": "text",
    "id": "IC5ITmqzjWEE",
    "slideshow": {
     "slide_type": "slide"
    }
   },
   "source": [
    "[XGBClassifier()](https://xgboost.readthedocs.io/en/latest/python/python_api.html#module-xgboost.sklearn)\n",
    "\n",
    "주요 매개변수(Hyperparameter)\n",
    "\n",
    "- n_estimators  : 생성할 트리의 개수, 지정된 횟수만큼 반복적으로 학습 오류를 감소시며 학습을 진행\n",
    "- learning_rate : 오차를 보정하는 정도\n",
    "- max_depth : 트리의 최대 깊이\n",
    "\n",
    "- subsample : 데이터 샘플링 비율을 지정, 보통 0.5~1 사이의 값을 사용 <br>\n",
    " 트리가 커져서 과적합되는 것을 제어하기 위함\n",
    "- reg_alpha : L1 regularization 적용값\n",
    "- reg_lambda : L2 regularization 적용값\n",
    "- n_jobs : xgboost를 실행하는 데 사용되는 병렬 스레드 수"
   ]
  },
  {
   "cell_type": "code",
   "execution_count": 10,
   "metadata": {
    "colab": {
     "base_uri": "https://localhost:8080/",
     "height": 34
    },
    "colab_type": "code",
    "executionInfo": {
     "elapsed": 9131,
     "status": "ok",
     "timestamp": 1597070290774,
     "user": {
      "displayName": "oz To",
      "photoUrl": "",
      "userId": "12937505880450462933"
     },
     "user_tz": -540
    },
    "id": "0QfZ_vloNqNC",
    "outputId": "5e06f7f6-7ed6-46d4-8532-0e2a2b8ed0fe",
    "slideshow": {
     "slide_type": "slide"
    }
   },
   "outputs": [
    {
     "data": {
      "text/plain": [
       "'1.1.1'"
      ]
     },
     "execution_count": 10,
     "metadata": {},
     "output_type": "execute_result"
    }
   ],
   "source": [
    "import xgboost\n",
    "xgboost.__version__"
   ]
  },
  {
   "cell_type": "markdown",
   "metadata": {
    "colab_type": "text",
    "id": "UvG1jdAzizoa",
    "slideshow": {
     "slide_type": "slide"
    }
   },
   "source": [
    "#### XGBoost 실습 01\n",
    "\n",
    "유방암 데이터를 이용"
   ]
  },
  {
   "cell_type": "code",
   "execution_count": 11,
   "metadata": {
    "colab": {
     "base_uri": "https://localhost:8080/",
     "height": 1000
    },
    "colab_type": "code",
    "executionInfo": {
     "elapsed": 10460,
     "status": "ok",
     "timestamp": 1597070292119,
     "user": {
      "displayName": "oz To",
      "photoUrl": "",
      "userId": "12937505880450462933"
     },
     "user_tz": -540
    },
    "id": "BOVmqMoqikqi",
    "outputId": "f960d351-5fe1-4fad-be8a-13c4bfd058df",
    "slideshow": {
     "slide_type": "slide"
    }
   },
   "outputs": [],
   "source": [
    "from sklearn.model_selection import train_test_split\n",
    "from xgboost import XGBClassifier\n",
    "from sklearn.datasets import load_breast_cancer\n",
    "\n",
    "# 데이터 로드\n",
    "cancer = load_breast_cancer()\n",
    "\n",
    "X_train, X_test, y_train, y_test = train_test_split(cancer.data, \n",
    "                                                    cancer.target, \n",
    "                                                    random_state=0)\n",
    "# 모델 학습\n",
    "\n",
    "\n",
    "# 평가\n",
    "\n",
    "\n",
    "# 특성 중요도 시각화\n",
    "\n",
    "\n",
    "# plot_importance() 이용\n"
   ]
  },
  {
   "cell_type": "code",
   "execution_count": 12,
   "metadata": {
    "colab": {
     "base_uri": "https://localhost:8080/",
     "height": 1000
    },
    "colab_type": "code",
    "executionInfo": {
     "elapsed": 11392,
     "status": "ok",
     "timestamp": 1597070293056,
     "user": {
      "displayName": "oz To",
      "photoUrl": "",
      "userId": "12937505880450462933"
     },
     "user_tz": -540
    },
    "id": "cR6NXliOkgTa",
    "outputId": "11b349c2-0a47-480d-cf3f-c85ab51a602a",
    "slideshow": {
     "slide_type": "slide"
    }
   },
   "outputs": [],
   "source": [
    "# 모델 학습 (조기중단을 수행)\n",
    "\n",
    "\n",
    "# 평가\n",
    "\n",
    "\n",
    "# 특성 중요도 시각화\n",
    "import seaborn as sns\n"
   ]
  },
  {
   "cell_type": "markdown",
   "metadata": {
    "colab_type": "text",
    "id": "2J0I1s6-t97O",
    "slideshow": {
     "slide_type": "slide"
    }
   },
   "source": [
    "- 조기 중단값을 너무 급격하게 줄이면 예측 성능이 저하될 우려가 있음"
   ]
  },
  {
   "cell_type": "markdown",
   "metadata": {
    "colab_type": "text",
    "id": "1oI48-NgfzIM",
    "slideshow": {
     "slide_type": "slide"
    }
   },
   "source": [
    "# LightGBM\n",
    "\n",
    "- XGBoost 보다 학습에 걸리는 시간이 훨씬 적음\n",
    "- 메모리 사용량도 상대적으로 적음\n",
    "- XGBoost와 비교하여 예측 성능에 별다른 차이가 없음\n",
    "- 적은 데이터 세트에 적용할 경우 과적합 발생이 쉬움 <br>\n",
    " (일반적으로 10,000 건 이하의 데이터 세트로 공식문서에 기술)\n",
    "- 균형 트리분할(Level Wise) 방식이 아닌 리프중심 트리분할(Leaf Wise) 방식을 사용"
   ]
  },
  {
   "cell_type": "markdown",
   "metadata": {
    "colab_type": "text",
    "id": "j_5JdgSKivwP",
    "slideshow": {
     "slide_type": "slide"
    }
   },
   "source": [
    "\n",
    "<center>\n",
    " <img src=\"https://blog.kakaocdn.net/dn/UI31I/btqCpRmVipf/dZOeXysFGspk2ukY7tGJb0/img.jpg\" alt=\"트리분할\" width=\"60%\" />\n",
    "\n",
    "</center>"
   ]
  },
  {
   "cell_type": "markdown",
   "metadata": {
    "colab_type": "text",
    "id": "lkEJ6RediMvm",
    "slideshow": {
     "slide_type": "slide"
    }
   },
   "source": [
    "균형 트리분할(Level Wise)\n",
    "\n",
    "- 대부분 트리 기반 알고리즘은 트리의 깊이를 효과적으로 줄이기 위한 균형 트리분할(Level Wise) 방식을 사용\n",
    "- 균형 잡힌 트리는 오버피팅에 보다 더 강한 구조를 가질 수 있다고 알려져 있기 때문\n",
    "- 균형을 맞추기 위한 시간이 추가로 필요\n",
    "\n",
    "리프중심 트리분할(Leaf Wise)\n",
    "\n",
    "- 트리의 균형을 맞추지 않고, 최대 손실 값(max delta loss)을 가지는 리프 노드를 지속적으로 분할\n",
    "- 트리의 깊이가 깊어지고 비대칭적인 규칙 트리를 생성\n",
    "- 학습을 반복할 수록 균형트리분할 방식보다 예측 오류 손실을 최소화 할 수 있음"
   ]
  },
  {
   "cell_type": "markdown",
   "metadata": {
    "colab_type": "text",
    "id": "tHmE1qCGvtBW",
    "slideshow": {
     "slide_type": "slide"
    }
   },
   "source": [
    "[LGBMClassifier()](https://lightgbm.readthedocs.io/en/latest/pythonapi/lightgbm.LGBMClassifier.html)\n",
    "\n",
    "주요 매개변수(Hyperparameter)\n",
    "\n",
    "- n_estimators  : 생성할 트리의 개수, 지정된 횟수만큼 반복적으로 학습 오류를 감소시며 학습을 진행(조기중단 미지원)\n",
    "- learning_rate : 오차를 보정하는 정도\n",
    "- max_depth : 트리의 최대 깊이\n",
    "\n",
    "- subsample : 데이터 샘플링 비율을 지정, 보통 0.5~1 사이의 값을 사용 <br>\n",
    " 트리가 커져서 과적합되는 것을 제어하기 위함\n",
    "- reg_alpha : L1 regularization 적용값\n",
    "- reg_lambda : L2 regularization 적용값\n",
    "- n_jobs : xgboost를 실행하는 데 사용되는 병렬 스레드 수\n",
    "\n",
    "- **num_leaves : 개별 트리가 가질 수 있는 최대 리프의 수 <br>\n",
    "(높이면 정확도가 높아지지만, 반대로 트리의 깊이가 깊어지고 모델 복잡도가 증가, 과대적합 가능성 증가)**\n",
    "- **min_child_samples : 결정 트리의 min_samples_leaf와 같은 파라미터**"
   ]
  },
  {
   "cell_type": "code",
   "execution_count": 13,
   "metadata": {
    "colab": {
     "base_uri": "https://localhost:8080/",
     "height": 34
    },
    "colab_type": "code",
    "executionInfo": {
     "elapsed": 11380,
     "status": "ok",
     "timestamp": 1597070293056,
     "user": {
      "displayName": "oz To",
      "photoUrl": "",
      "userId": "12937505880450462933"
     },
     "user_tz": -540
    },
    "id": "VcixXhMIOnZB",
    "outputId": "c09232be-7062-4648-a017-f2f3b893e94a",
    "slideshow": {
     "slide_type": "slide"
    }
   },
   "outputs": [
    {
     "data": {
      "text/plain": [
       "'2.3.1'"
      ]
     },
     "execution_count": 13,
     "metadata": {},
     "output_type": "execute_result"
    }
   ],
   "source": [
    "import lightgbm\n",
    "lightgbm.__version__"
   ]
  },
  {
   "cell_type": "markdown",
   "metadata": {
    "colab_type": "text",
    "id": "ke0CfVVCxZ5l",
    "slideshow": {
     "slide_type": "slide"
    }
   },
   "source": [
    "#### LightGBM 실습 01\n",
    "\n",
    "유방암 데이터를 이용"
   ]
  },
  {
   "cell_type": "code",
   "execution_count": 14,
   "metadata": {
    "colab": {},
    "colab_type": "code",
    "executionInfo": {
     "elapsed": 11377,
     "status": "ok",
     "timestamp": 1597070293057,
     "user": {
      "displayName": "oz To",
      "photoUrl": "",
      "userId": "12937505880450462933"
     },
     "user_tz": -540
    },
    "id": "szyfy6Nbvt9r",
    "slideshow": {
     "slide_type": "slide"
    }
   },
   "outputs": [],
   "source": [
    "from lightgbm import LGBMClassifier\n",
    "\n"
   ]
  },
  {
   "cell_type": "code",
   "execution_count": 15,
   "metadata": {
    "colab": {
     "base_uri": "https://localhost:8080/",
     "height": 1000
    },
    "colab_type": "code",
    "executionInfo": {
     "elapsed": 13048,
     "status": "ok",
     "timestamp": 1597070294739,
     "user": {
      "displayName": "oz To",
      "photoUrl": "",
      "userId": "12937505880450462933"
     },
     "user_tz": -540
    },
    "id": "OG45pQZ8xh3r",
    "outputId": "aed926b9-9895-41a1-ce14-9c9e4c844952",
    "slideshow": {
     "slide_type": "slide"
    }
   },
   "outputs": [
    {
     "name": "stdout",
     "output_type": "stream",
     "text": [
      "훈련 세트 정확도 : 1.000\n",
      "테스트 세트 정확도 : 0.986\n"
     ]
    },
    {
     "data": {
      "text/plain": [
       "<matplotlib.axes._subplots.AxesSubplot at 0x26aef6e9508>"
      ]
     },
     "execution_count": 15,
     "metadata": {},
     "output_type": "execute_result"
    },
    {
     "data": {
      "image/png": "[encoded data removed]",
      "text/plain": [
       "<Figure size 432x288 with 1 Axes>"
      ]
     },
     "metadata": {
      "needs_background": "light"
     },
     "output_type": "display_data"
    },
    {
     "data": {
      "image/png": "[encoded data removed]",
      "text/plain": [
       "<Figure size 720x864 with 1 Axes>"
      ]
     },
     "metadata": {
      "needs_background": "light"
     },
     "output_type": "display_data"
    }
   ],
   "source": [
    "from sklearn.model_selection import train_test_split\n",
    "from lightgbm import LGBMClassifier\n",
    "from sklearn.datasets import load_breast_cancer\n",
    "\n",
    "# 데이터 로드\n",
    "cancer = load_breast_cancer()\n",
    "\n",
    "X_train, X_test, y_train, y_test = train_test_split(cancer.data, \n",
    "                                                    cancer.target, \n",
    "                                                    random_state=0)\n",
    "# 모델 학습\n",
    "model = LGBMClassifier(n_estimators=400, learning_rate=0.1, max_depth=3, random_state=42)\n",
    "model.fit(X_train, y_train)\n",
    "\n",
    "# 평가\n",
    "print(\"훈련 세트 정확도 : {:.3f}\".format(model.score(X_train, y_train)))\n",
    "print(\"테스트 세트 정확도 : {:.3f}\".format(model.score(X_test, y_test)))\n",
    "\n",
    "# 특성 중요도 시각화\n",
    "import seaborn as sns\n",
    "sns.barplot(model.feature_importances_, y=cancer.feature_names)\n",
    "\n",
    "# plot_importance() 이용\n",
    "from lightgbm import plot_importance\n",
    "fig, ax = plt.subplots(figsize=(10,12))\n",
    "plot_importance(model, ax=ax, )"
   ]
  },
  {
   "cell_type": "markdown",
   "metadata": {
    "colab_type": "text",
    "id": "Nrz2hbnLSyfQ",
    "slideshow": {
     "slide_type": "slide"
    }
   },
   "source": [
    "# 분류 머신러닝 알고리즘 정리\n",
    "\n",
    "- 나이브 베이즈(Naive Bayes) : 베이즈(Bayes) 통계와 생성 모델에 기반\n",
    "\n",
    "- 로지스틱 회귀(Logistic Regression) : 독립변수와 종속변수의 선형 관계성에 기반\n",
    "\n",
    "- 결정 트리(Decision Tree) : 데이터 균일도에 따른 규칙 기반\n",
    "\n",
    "- 서포트 벡터 머신(Suppert Vector Machine) : 개별 클래스 간의 최대 분류 마진을 효과적으로 찾아줌\n",
    "\n",
    "- 최소 근접(Nearest Neighbor) 알고리즘 : 근접 거리를 기준\n",
    "\n",
    "- 앙상블(Ensemble) : 서로 다른(또는 같은) 머신러닝 알고리즘을 결합\n",
    "\n",
    "- 신경망(Neural Network) : 심층 연결 기반"
   ]
  }
 ],
 "metadata": {
  "celltoolbar": "Slideshow",
  "colab": {
   "authorship_tag": "ABX9TyMKw/hauXDTyaa8mxAuV7KJ",
   "collapsed_sections": [],
   "name": "ml_11_지도학습_GradientBoosting_AdaBoost.ipynb",
   "provenance": []
  },
  "kernelspec": {
   "display_name": "Python 3",
   "language": "python",
   "name": "python3"
  },
  "language_info": {
   "codemirror_mode": {
    "name": "ipython",
    "version": 3
   },
   "file_extension": ".py",
   "mimetype": "text/x-python",
   "name": "python",
   "nbconvert_exporter": "python",
   "pygments_lexer": "ipython3",
   "version": "3.7.6"
  }
 },
 "nbformat": 4,
 "nbformat_minor": 1
}
