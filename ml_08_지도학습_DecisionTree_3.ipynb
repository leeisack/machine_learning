{
 "cells": [
  {
   "cell_type": "markdown",
   "metadata": {
    "slideshow": {
     "slide_type": "slide"
    }
   },
   "source": [
    "# Decision Tree - 3"
   ]
  },
  {
   "cell_type": "markdown",
   "metadata": {
    "colab_type": "text",
    "id": "g5_EsCnQ-zCg",
    "slideshow": {
     "slide_type": "slide"
    }
   },
   "source": [
    "#### Decision Tree 실습 04\n",
    "\n",
    "타이타닉 데이터 사용"
   ]
  },
  {
   "cell_type": "markdown",
   "metadata": {
    "colab_type": "text",
    "id": "xYKjJ97ka4od",
    "slideshow": {
     "slide_type": "slide"
    }
   },
   "source": [
    "##### 데이터 준비"
   ]
  },
  {
   "cell_type": "code",
   "execution_count": 1,
   "metadata": {
    "colab": {},
    "colab_type": "code",
    "executionInfo": {
     "elapsed": 712,
     "status": "ok",
     "timestamp": 1596375938684,
     "user": {
      "displayName": "oz To",
      "photoUrl": "",
      "userId": "12937505880450462933"
     },
     "user_tz": -540
    },
    "id": "Z3oJYANc-9Oy",
    "slideshow": {
     "slide_type": "slide"
    }
   },
   "outputs": [
    {
     "data": {
      "text/html": [
       "<div>\n",
       "<style scoped>\n",
       "    .dataframe tbody tr th:only-of-type {\n",
       "        vertical-align: middle;\n",
       "    }\n",
       "\n",
       "    .dataframe tbody tr th {\n",
       "        vertical-align: top;\n",
       "    }\n",
       "\n",
       "    .dataframe thead th {\n",
       "        text-align: right;\n",
       "    }\n",
       "</style>\n",
       "<table border=\"1\" class=\"dataframe\">\n",
       "  <thead>\n",
       "    <tr style=\"text-align: right;\">\n",
       "      <th></th>\n",
       "      <th>pclass</th>\n",
       "      <th>survived</th>\n",
       "      <th>name</th>\n",
       "      <th>sex</th>\n",
       "      <th>age</th>\n",
       "      <th>sibsp</th>\n",
       "      <th>parch</th>\n",
       "      <th>ticket</th>\n",
       "      <th>fare</th>\n",
       "      <th>cabin</th>\n",
       "      <th>embarked</th>\n",
       "      <th>boat</th>\n",
       "      <th>body</th>\n",
       "      <th>home.dest</th>\n",
       "    </tr>\n",
       "  </thead>\n",
       "  <tbody>\n",
       "    <tr>\n",
       "      <th>0</th>\n",
       "      <td>1</td>\n",
       "      <td>1</td>\n",
       "      <td>Allen, Miss. Elisabeth Walton</td>\n",
       "      <td>female</td>\n",
       "      <td>29.0000</td>\n",
       "      <td>0</td>\n",
       "      <td>0</td>\n",
       "      <td>24160</td>\n",
       "      <td>211.3375</td>\n",
       "      <td>B5</td>\n",
       "      <td>S</td>\n",
       "      <td>2</td>\n",
       "      <td>NaN</td>\n",
       "      <td>St Louis, MO</td>\n",
       "    </tr>\n",
       "    <tr>\n",
       "      <th>1</th>\n",
       "      <td>1</td>\n",
       "      <td>1</td>\n",
       "      <td>Allison, Master. Hudson Trevor</td>\n",
       "      <td>male</td>\n",
       "      <td>0.9167</td>\n",
       "      <td>1</td>\n",
       "      <td>2</td>\n",
       "      <td>113781</td>\n",
       "      <td>151.5500</td>\n",
       "      <td>C22 C26</td>\n",
       "      <td>S</td>\n",
       "      <td>11</td>\n",
       "      <td>NaN</td>\n",
       "      <td>Montreal, PQ / Chesterville, ON</td>\n",
       "    </tr>\n",
       "    <tr>\n",
       "      <th>2</th>\n",
       "      <td>1</td>\n",
       "      <td>0</td>\n",
       "      <td>Allison, Miss. Helen Loraine</td>\n",
       "      <td>female</td>\n",
       "      <td>2.0000</td>\n",
       "      <td>1</td>\n",
       "      <td>2</td>\n",
       "      <td>113781</td>\n",
       "      <td>151.5500</td>\n",
       "      <td>C22 C26</td>\n",
       "      <td>S</td>\n",
       "      <td>NaN</td>\n",
       "      <td>NaN</td>\n",
       "      <td>Montreal, PQ / Chesterville, ON</td>\n",
       "    </tr>\n",
       "    <tr>\n",
       "      <th>3</th>\n",
       "      <td>1</td>\n",
       "      <td>0</td>\n",
       "      <td>Allison, Mr. Hudson Joshua Creighton</td>\n",
       "      <td>male</td>\n",
       "      <td>30.0000</td>\n",
       "      <td>1</td>\n",
       "      <td>2</td>\n",
       "      <td>113781</td>\n",
       "      <td>151.5500</td>\n",
       "      <td>C22 C26</td>\n",
       "      <td>S</td>\n",
       "      <td>NaN</td>\n",
       "      <td>135.0</td>\n",
       "      <td>Montreal, PQ / Chesterville, ON</td>\n",
       "    </tr>\n",
       "    <tr>\n",
       "      <th>4</th>\n",
       "      <td>1</td>\n",
       "      <td>0</td>\n",
       "      <td>Allison, Mrs. Hudson J C (Bessie Waldo Daniels)</td>\n",
       "      <td>female</td>\n",
       "      <td>25.0000</td>\n",
       "      <td>1</td>\n",
       "      <td>2</td>\n",
       "      <td>113781</td>\n",
       "      <td>151.5500</td>\n",
       "      <td>C22 C26</td>\n",
       "      <td>S</td>\n",
       "      <td>NaN</td>\n",
       "      <td>NaN</td>\n",
       "      <td>Montreal, PQ / Chesterville, ON</td>\n",
       "    </tr>\n",
       "  </tbody>\n",
       "</table>\n",
       "</div>"
      ],
      "text/plain": [
       "   pclass  survived                                             name     sex  \\\n",
       "0       1         1                    Allen, Miss. Elisabeth Walton  female   \n",
       "1       1         1                   Allison, Master. Hudson Trevor    male   \n",
       "2       1         0                     Allison, Miss. Helen Loraine  female   \n",
       "3       1         0             Allison, Mr. Hudson Joshua Creighton    male   \n",
       "4       1         0  Allison, Mrs. Hudson J C (Bessie Waldo Daniels)  female   \n",
       "\n",
       "       age  sibsp  parch  ticket      fare    cabin embarked boat   body  \\\n",
       "0  29.0000      0      0   24160  211.3375       B5        S    2    NaN   \n",
       "1   0.9167      1      2  113781  151.5500  C22 C26        S   11    NaN   \n",
       "2   2.0000      1      2  113781  151.5500  C22 C26        S  NaN    NaN   \n",
       "3  30.0000      1      2  113781  151.5500  C22 C26        S  NaN  135.0   \n",
       "4  25.0000      1      2  113781  151.5500  C22 C26        S  NaN    NaN   \n",
       "\n",
       "                         home.dest  \n",
       "0                     St Louis, MO  \n",
       "1  Montreal, PQ / Chesterville, ON  \n",
       "2  Montreal, PQ / Chesterville, ON  \n",
       "3  Montreal, PQ / Chesterville, ON  \n",
       "4  Montreal, PQ / Chesterville, ON  "
      ]
     },
     "execution_count": 1,
     "metadata": {},
     "output_type": "execute_result"
    }
   ],
   "source": [
    "import pandas as pd\n",
    "import numpy as np\n",
    "import matplotlib.pyplot as plt\n",
    "%matplotlib inline\n",
    "\n",
    "\n",
    "titanic_data = pd.read_excel('titanic.xls')\n",
    "titanic_data.head()"
   ]
  },
  {
   "cell_type": "markdown",
   "metadata": {
    "colab_type": "text",
    "id": "OPHMk6cqaaKe",
    "slideshow": {
     "slide_type": "slide"
    }
   },
   "source": [
    "##### 데이터 분석 (시각화, EDA - 탐색적 데이터분석)\n",
    "\n",
    "- 데이터를 세부적으로 살펴보는 것 <br> \n",
    "  (결측치, 이상치, 데이터분포, 라벨의 분포, 범주형 데이터의 종류 등 확인)\n",
    "- 데이터를 시각화\n",
    "- 데이터를 어떻게 수정할 것인지 결정"
   ]
  },
  {
   "cell_type": "code",
   "execution_count": 2,
   "metadata": {
    "colab": {
     "base_uri": "https://localhost:8080/",
     "height": 390
    },
    "colab_type": "code",
    "executionInfo": {
     "elapsed": 739,
     "status": "ok",
     "timestamp": 1596375943480,
     "user": {
      "displayName": "oz To",
      "photoUrl": "",
      "userId": "12937505880450462933"
     },
     "user_tz": -540
    },
    "id": "OIM6Bewjav8M",
    "outputId": "dce04d72-a394-46a3-eb21-7b8676495e1f",
    "slideshow": {
     "slide_type": "slide"
    }
   },
   "outputs": [
    {
     "name": "stdout",
     "output_type": "stream",
     "text": [
      "<class 'pandas.core.frame.DataFrame'>\n",
      "RangeIndex: 1309 entries, 0 to 1308\n",
      "Data columns (total 14 columns):\n",
      " #   Column     Non-Null Count  Dtype  \n",
      "---  ------     --------------  -----  \n",
      " 0   pclass     1309 non-null   int64  \n",
      " 1   survived   1309 non-null   int64  \n",
      " 2   name       1309 non-null   object \n",
      " 3   sex        1309 non-null   object \n",
      " 4   age        1046 non-null   float64\n",
      " 5   sibsp      1309 non-null   int64  \n",
      " 6   parch      1309 non-null   int64  \n",
      " 7   ticket     1309 non-null   object \n",
      " 8   fare       1308 non-null   float64\n",
      " 9   cabin      295 non-null    object \n",
      " 10  embarked   1307 non-null   object \n",
      " 11  boat       486 non-null    object \n",
      " 12  body       121 non-null    float64\n",
      " 13  home.dest  745 non-null    object \n",
      "dtypes: float64(3), int64(4), object(7)\n",
      "memory usage: 143.3+ KB\n"
     ]
    }
   ],
   "source": [
    "# 결측치 확인\n",
    "titanic_data.info()"
   ]
  },
  {
   "cell_type": "markdown",
   "metadata": {
    "colab_type": "text",
    "id": "WzfMokWWAvIA",
    "slideshow": {
     "slide_type": "slide"
    }
   },
   "source": [
    "- pclass : 객실 등급\n",
    "- survived : 생존 유무\n",
    "- sex : 성별\n",
    "- age : 나이\n",
    "- sibsp : 형제 혹은 부부의 수\n",
    "- parch : 부모, 혹은 자녀의 수\n",
    "- fare : 지불한 운임\n",
    "- boat : 탈출한 보트가 있다면 boat 번호\n",
    "- embarked : 탑승장소 S=Southhampton, C=Cherbourg, Q=Queenstown"
   ]
  },
  {
   "cell_type": "code",
   "execution_count": 3,
   "metadata": {
    "colab": {
     "base_uri": "https://localhost:8080/",
     "height": 287
    },
    "colab_type": "code",
    "executionInfo": {
     "elapsed": 726,
     "status": "ok",
     "timestamp": 1596375343400,
     "user": {
      "displayName": "oz To",
      "photoUrl": "",
      "userId": "12937505880450462933"
     },
     "user_tz": -540
    },
    "id": "ips7JL4TA4k_",
    "outputId": "44007ed1-72ca-4c90-cd29-a8848c5aa495",
    "slideshow": {
     "slide_type": "slide"
    }
   },
   "outputs": [
    {
     "data": {
      "text/html": [
       "<div>\n",
       "<style scoped>\n",
       "    .dataframe tbody tr th:only-of-type {\n",
       "        vertical-align: middle;\n",
       "    }\n",
       "\n",
       "    .dataframe tbody tr th {\n",
       "        vertical-align: top;\n",
       "    }\n",
       "\n",
       "    .dataframe thead th {\n",
       "        text-align: right;\n",
       "    }\n",
       "</style>\n",
       "<table border=\"1\" class=\"dataframe\">\n",
       "  <thead>\n",
       "    <tr style=\"text-align: right;\">\n",
       "      <th></th>\n",
       "      <th>pclass</th>\n",
       "      <th>survived</th>\n",
       "      <th>age</th>\n",
       "      <th>sibsp</th>\n",
       "      <th>parch</th>\n",
       "      <th>fare</th>\n",
       "      <th>body</th>\n",
       "    </tr>\n",
       "  </thead>\n",
       "  <tbody>\n",
       "    <tr>\n",
       "      <th>count</th>\n",
       "      <td>1309.000000</td>\n",
       "      <td>1309.000000</td>\n",
       "      <td>1046.000000</td>\n",
       "      <td>1309.000000</td>\n",
       "      <td>1309.000000</td>\n",
       "      <td>1308.000000</td>\n",
       "      <td>121.000000</td>\n",
       "    </tr>\n",
       "    <tr>\n",
       "      <th>mean</th>\n",
       "      <td>2.294882</td>\n",
       "      <td>0.381971</td>\n",
       "      <td>29.881135</td>\n",
       "      <td>0.498854</td>\n",
       "      <td>0.385027</td>\n",
       "      <td>33.295479</td>\n",
       "      <td>160.809917</td>\n",
       "    </tr>\n",
       "    <tr>\n",
       "      <th>std</th>\n",
       "      <td>0.837836</td>\n",
       "      <td>0.486055</td>\n",
       "      <td>14.413500</td>\n",
       "      <td>1.041658</td>\n",
       "      <td>0.865560</td>\n",
       "      <td>51.758668</td>\n",
       "      <td>97.696922</td>\n",
       "    </tr>\n",
       "    <tr>\n",
       "      <th>min</th>\n",
       "      <td>1.000000</td>\n",
       "      <td>0.000000</td>\n",
       "      <td>0.166700</td>\n",
       "      <td>0.000000</td>\n",
       "      <td>0.000000</td>\n",
       "      <td>0.000000</td>\n",
       "      <td>1.000000</td>\n",
       "    </tr>\n",
       "    <tr>\n",
       "      <th>25%</th>\n",
       "      <td>2.000000</td>\n",
       "      <td>0.000000</td>\n",
       "      <td>21.000000</td>\n",
       "      <td>0.000000</td>\n",
       "      <td>0.000000</td>\n",
       "      <td>7.895800</td>\n",
       "      <td>72.000000</td>\n",
       "    </tr>\n",
       "    <tr>\n",
       "      <th>50%</th>\n",
       "      <td>3.000000</td>\n",
       "      <td>0.000000</td>\n",
       "      <td>28.000000</td>\n",
       "      <td>0.000000</td>\n",
       "      <td>0.000000</td>\n",
       "      <td>14.454200</td>\n",
       "      <td>155.000000</td>\n",
       "    </tr>\n",
       "    <tr>\n",
       "      <th>75%</th>\n",
       "      <td>3.000000</td>\n",
       "      <td>1.000000</td>\n",
       "      <td>39.000000</td>\n",
       "      <td>1.000000</td>\n",
       "      <td>0.000000</td>\n",
       "      <td>31.275000</td>\n",
       "      <td>256.000000</td>\n",
       "    </tr>\n",
       "    <tr>\n",
       "      <th>max</th>\n",
       "      <td>3.000000</td>\n",
       "      <td>1.000000</td>\n",
       "      <td>80.000000</td>\n",
       "      <td>8.000000</td>\n",
       "      <td>9.000000</td>\n",
       "      <td>512.329200</td>\n",
       "      <td>328.000000</td>\n",
       "    </tr>\n",
       "  </tbody>\n",
       "</table>\n",
       "</div>"
      ],
      "text/plain": [
       "            pclass     survived          age        sibsp        parch  \\\n",
       "count  1309.000000  1309.000000  1046.000000  1309.000000  1309.000000   \n",
       "mean      2.294882     0.381971    29.881135     0.498854     0.385027   \n",
       "std       0.837836     0.486055    14.413500     1.041658     0.865560   \n",
       "min       1.000000     0.000000     0.166700     0.000000     0.000000   \n",
       "25%       2.000000     0.000000    21.000000     0.000000     0.000000   \n",
       "50%       3.000000     0.000000    28.000000     0.000000     0.000000   \n",
       "75%       3.000000     1.000000    39.000000     1.000000     0.000000   \n",
       "max       3.000000     1.000000    80.000000     8.000000     9.000000   \n",
       "\n",
       "              fare        body  \n",
       "count  1308.000000  121.000000  \n",
       "mean     33.295479  160.809917  \n",
       "std      51.758668   97.696922  \n",
       "min       0.000000    1.000000  \n",
       "25%       7.895800   72.000000  \n",
       "50%      14.454200  155.000000  \n",
       "75%      31.275000  256.000000  \n",
       "max     512.329200  328.000000  "
      ]
     },
     "execution_count": 3,
     "metadata": {},
     "output_type": "execute_result"
    }
   ],
   "source": [
    "# 이상치 확인\n",
    "titanic_data.describe()"
   ]
  },
  {
   "cell_type": "markdown",
   "metadata": {
    "colab_type": "text",
    "id": "x6uMecGWA8RB",
    "slideshow": {
     "slide_type": "slide"
    }
   },
   "source": [
    "- survived를 보면 인해 생존률이 38.2%임을 알 수 있음"
   ]
  },
  {
   "cell_type": "code",
   "execution_count": 4,
   "metadata": {
    "colab": {
     "base_uri": "https://localhost:8080/",
     "height": 294
    },
    "colab_type": "code",
    "executionInfo": {
     "elapsed": 687,
     "status": "ok",
     "timestamp": 1596376612142,
     "user": {
      "displayName": "oz To",
      "photoUrl": "",
      "userId": "12937505880450462933"
     },
     "user_tz": -540
    },
    "id": "YuLP_qamBNWp",
    "outputId": "8556ca97-3c01-4c7a-ab45-100b10b98a5a",
    "slideshow": {
     "slide_type": "slide"
    }
   },
   "outputs": [
    {
     "data": {
      "text/plain": [
       "<matplotlib.axes._subplots.AxesSubplot at 0x2860370bdc8>"
      ]
     },
     "execution_count": 4,
     "metadata": {},
     "output_type": "execute_result"
    },
    {
     "data": {
      "image/png": "[encoded data removed]",
      "text/plain": [
       "<Figure size 432x288 with 1 Axes>"
      ]
     },
     "metadata": {
      "needs_background": "light"
     },
     "output_type": "display_data"
    }
   ],
   "source": [
    "# 생존자 수 확인\n",
    "import seaborn as sns\n",
    "\n",
    "# countplot: 범주형 변수의 빈도수를 시각화\n",
    "sns.countplot('survived', data=titanic_data)"
   ]
  },
  {
   "cell_type": "code",
   "execution_count": 5,
   "metadata": {
    "colab": {
     "base_uri": "https://localhost:8080/",
     "height": 431
    },
    "colab_type": "code",
    "executionInfo": {
     "elapsed": 696,
     "status": "ok",
     "timestamp": 1596376613723,
     "user": {
      "displayName": "oz To",
      "photoUrl": "",
      "userId": "12937505880450462933"
     },
     "user_tz": -540
    },
    "id": "IFbg4QnpBoO4",
    "outputId": "86805122-ad99-47cd-a11c-d1b074702597",
    "slideshow": {
     "slide_type": "slide"
    }
   },
   "outputs": [
    {
     "data": {
      "image/png": "[encoded data removed]",
      "text/plain": [
       "<Figure size 1296x576 with 1 Axes>"
      ]
     },
     "metadata": {
      "needs_background": "light"
     },
     "output_type": "display_data"
    }
   ],
   "source": [
    "# 나이 분포\n",
    "titanic_data['age'].hist(bins=20, figsize=(18,8), grid=False);"
   ]
  },
  {
   "cell_type": "code",
   "execution_count": 6,
   "metadata": {
    "colab": {
     "base_uri": "https://localhost:8080/",
     "height": 167
    },
    "colab_type": "code",
    "executionInfo": {
     "elapsed": 679,
     "status": "ok",
     "timestamp": 1596376615803,
     "user": {
      "displayName": "oz To",
      "photoUrl": "",
      "userId": "12937505880450462933"
     },
     "user_tz": -540
    },
    "id": "X_GsRqXgB5Fh",
    "outputId": "554692de-ef51-4319-b313-a2075d0a4c2b",
    "slideshow": {
     "slide_type": "slide"
    }
   },
   "outputs": [
    {
     "data": {
      "text/html": [
       "<div>\n",
       "<style scoped>\n",
       "    .dataframe tbody tr th:only-of-type {\n",
       "        vertical-align: middle;\n",
       "    }\n",
       "\n",
       "    .dataframe tbody tr th {\n",
       "        vertical-align: top;\n",
       "    }\n",
       "\n",
       "    .dataframe thead th {\n",
       "        text-align: right;\n",
       "    }\n",
       "</style>\n",
       "<table border=\"1\" class=\"dataframe\">\n",
       "  <thead>\n",
       "    <tr style=\"text-align: right;\">\n",
       "      <th></th>\n",
       "      <th>survived</th>\n",
       "      <th>age</th>\n",
       "      <th>sibsp</th>\n",
       "      <th>parch</th>\n",
       "      <th>fare</th>\n",
       "      <th>body</th>\n",
       "    </tr>\n",
       "    <tr>\n",
       "      <th>pclass</th>\n",
       "      <th></th>\n",
       "      <th></th>\n",
       "      <th></th>\n",
       "      <th></th>\n",
       "      <th></th>\n",
       "      <th></th>\n",
       "    </tr>\n",
       "  </thead>\n",
       "  <tbody>\n",
       "    <tr>\n",
       "      <th>1</th>\n",
       "      <td>0.619195</td>\n",
       "      <td>39.159918</td>\n",
       "      <td>0.436533</td>\n",
       "      <td>0.365325</td>\n",
       "      <td>87.508992</td>\n",
       "      <td>162.828571</td>\n",
       "    </tr>\n",
       "    <tr>\n",
       "      <th>2</th>\n",
       "      <td>0.429603</td>\n",
       "      <td>29.506705</td>\n",
       "      <td>0.393502</td>\n",
       "      <td>0.368231</td>\n",
       "      <td>21.179196</td>\n",
       "      <td>167.387097</td>\n",
       "    </tr>\n",
       "    <tr>\n",
       "      <th>3</th>\n",
       "      <td>0.255289</td>\n",
       "      <td>24.816367</td>\n",
       "      <td>0.568406</td>\n",
       "      <td>0.400564</td>\n",
       "      <td>13.302889</td>\n",
       "      <td>155.818182</td>\n",
       "    </tr>\n",
       "  </tbody>\n",
       "</table>\n",
       "</div>"
      ],
      "text/plain": [
       "        survived        age     sibsp     parch       fare        body\n",
       "pclass                                                                \n",
       "1       0.619195  39.159918  0.436533  0.365325  87.508992  162.828571\n",
       "2       0.429603  29.506705  0.393502  0.368231  21.179196  167.387097\n",
       "3       0.255289  24.816367  0.568406  0.400564  13.302889  155.818182"
      ]
     },
     "execution_count": 6,
     "metadata": {},
     "output_type": "execute_result"
    }
   ],
   "source": [
    "# 선실 등급별 상황\n",
    "titanic_data.groupby('pclass').mean()"
   ]
  },
  {
   "cell_type": "markdown",
   "metadata": {
    "colab_type": "text",
    "id": "ECShP6mgCFvb",
    "slideshow": {
     "slide_type": "slide"
    }
   },
   "source": [
    "- 1등실 생존율이 높음\n",
    "- 나이 평균을 보면 3등실에 갓난아이가 많았을 수도...."
   ]
  },
  {
   "cell_type": "markdown",
   "metadata": {
    "colab_type": "text",
    "id": "5pJcLHKobDcW",
    "slideshow": {
     "slide_type": "slide"
    }
   },
   "source": [
    "**heatmap**\n",
    "\n",
    "- Target Feature와 나머지 독립변수들의 상관계수를 직관적으로 확인\n",
    "- 데이터.corr() : heatmap에 사용할 데이터의 상관계수"
   ]
  },
  {
   "cell_type": "code",
   "execution_count": 7,
   "metadata": {
    "colab": {
     "base_uri": "https://localhost:8080/",
     "height": 578
    },
    "colab_type": "code",
    "executionInfo": {
     "elapsed": 1169,
     "status": "ok",
     "timestamp": 1596376619893,
     "user": {
      "displayName": "oz To",
      "photoUrl": "",
      "userId": "12937505880450462933"
     },
     "user_tz": -540
    },
    "id": "eDg8SPhqCdiw",
    "outputId": "bdc23178-5832-4d88-f681-9ab683952456",
    "slideshow": {
     "slide_type": "slide"
    }
   },
   "outputs": [
    {
     "data": {
      "image/png": "[encoded data removed]",
      "text/plain": [
       "<Figure size 720x720 with 2 Axes>"
      ]
     },
     "metadata": {
      "needs_background": "light"
     },
     "output_type": "display_data"
    }
   ],
   "source": [
    "# 특성의 상관관계 분석\n",
    "plt.figure(figsize=(10, 10))\n",
    "sns.heatmap(titanic_data.corr(), linewidths=0.01, square=True,\n",
    "            annot=True, cmap=plt.cm.viridis, linecolor=\"white\")\n",
    "plt.title('Correlation between features')\n",
    "plt.show()"
   ]
  },
  {
   "cell_type": "markdown",
   "metadata": {
    "colab_type": "text",
    "id": "zyASMzfqCmQp",
    "slideshow": {
     "slide_type": "slide"
    }
   },
   "source": [
    "-  survived는 pclass와 fare와 관계가 있어 보임"
   ]
  },
  {
   "cell_type": "code",
   "execution_count": 8,
   "metadata": {
    "colab": {
     "base_uri": "https://localhost:8080/",
     "height": 323
    },
    "colab_type": "code",
    "executionInfo": {
     "elapsed": 1379,
     "status": "ok",
     "timestamp": 1596376623230,
     "user": {
      "displayName": "oz To",
      "photoUrl": "",
      "userId": "12937505880450462933"
     },
     "user_tz": -540
    },
    "id": "llPfhvoBCwF5",
    "outputId": "c6dc2475-3bda-414a-a58f-c6ec41e2caac",
    "slideshow": {
     "slide_type": "slide"
    }
   },
   "outputs": [
    {
     "data": {
      "image/png": "[encoded data removed]",
      "text/plain": [
       "<Figure size 864x288 with 3 Axes>"
      ]
     },
     "metadata": {
      "needs_background": "light"
     },
     "output_type": "display_data"
    }
   ],
   "source": [
    "# 객실 등급(pclass)별, 연령대별, 성별 비교\n",
    "titanic_data['age_cat'] = pd.cut(titanic_data['age'], bins=[0, 10, 20, 50, 100], \n",
    "                             include_lowest=True, labels=['baby', 'teenage', 'adult', \n",
    "                                                          'old'])\n",
    "plt.figure(figsize=[12,4])\n",
    "plt.subplot(131)\n",
    "sns.barplot('pclass', 'survived', data=titanic_data)\n",
    "plt.subplot(132)\n",
    "sns.barplot('age_cat', 'survived', data=titanic_data)\n",
    "plt.subplot(133)\n",
    "sns.barplot('sex', 'survived', data=titanic_data)\n",
    "plt.subplots_adjust(top=1, bottom=0.1, left=0.10, right=1, hspace=0.5, wspace=0.5)\n",
    "plt.show()\n",
    "# seaborn은 barplot() 함수를 사용할 때 각 막대에 기본적으로 오차막대(error bar)가 함께 나타나도록 되어 있다.\n",
    "# 오차막대를 그리는 범위는 기본적으로 \n",
    "# “이 데이터를 기반으로 유사한 상황의 95 %가이 범위 내에서 결과를 얻을 것”을 의미한다."
   ]
  },
  {
   "cell_type": "markdown",
   "metadata": {
    "colab_type": "text",
    "id": "of0sK2CRCvXA",
    "slideshow": {
     "slide_type": "slide"
    }
   },
   "source": [
    "- pclass는 1등석인 경우 확실히 생존률이 높았음\n",
    "\n",
    "- 0세에서 10세로 구분한 baby 등급의 연령대 아이들의 생존률이 다른 연령대보다 높음\n",
    "\n",
    "- 남성보다 여성의 생존률이 높았음"
   ]
  },
  {
   "cell_type": "code",
   "execution_count": 9,
   "metadata": {
    "colab": {
     "base_uri": "https://localhost:8080/",
     "height": 387
    },
    "colab_type": "code",
    "executionInfo": {
     "elapsed": 1086,
     "status": "ok",
     "timestamp": 1596376626234,
     "user": {
      "displayName": "oz To",
      "photoUrl": "",
      "userId": "12937505880450462933"
     },
     "user_tz": -540
    },
    "id": "lFQ3Bt14DHWh",
    "outputId": "630e8db6-b1e8-43b5-bdbb-2d1ff31f28e3",
    "slideshow": {
     "slide_type": "slide"
    }
   },
   "outputs": [
    {
     "data": {
      "image/png": "[encoded data removed]",
      "text/plain": [
       "<Figure size 864x432 with 1 Axes>"
      ]
     },
     "metadata": {
      "needs_background": "light"
     },
     "output_type": "display_data"
    }
   ],
   "source": [
    "# 연령대별 생존여부 분포 비교\n",
    "f,ax = plt.subplots(figsize=(12,6))\n",
    "\n",
    "# 커널밀도추정 KDE ; 데이터의 분포를 확인\n",
    "g = sns.kdeplot(titanic_data[\"age\"][(titanic_data[\"survived\"] == 0) \n",
    "& (titanic_data[\"age\"].notnull())], \n",
    "                ax = ax, color=\"Blue\", shade = True)\n",
    "g = sns.kdeplot(titanic_data[\"age\"][(titanic_data[\"survived\"] == 1) & (titanic_data[\"age\"].notnull())], \n",
    "                ax =g, color=\"Green\", shade= True)\n",
    "g.set_xlabel(\"Age\")\n",
    "g.set_ylabel(\"Frequency\")\n",
    "g = g.legend([\"Not Survived\",\"Survived\"])"
   ]
  },
  {
   "cell_type": "markdown",
   "metadata": {
    "colab_type": "text",
    "id": "Mp4tSN0WDO0Q",
    "slideshow": {
     "slide_type": "slide"
    }
   },
   "source": [
    "- 어린아이의 생존율이 높았다는 것을 알 수 있음"
   ]
  },
  {
   "cell_type": "code",
   "execution_count": 10,
   "metadata": {
    "colab": {
     "base_uri": "https://localhost:8080/",
     "height": 404
    },
    "colab_type": "code",
    "executionInfo": {
     "elapsed": 1031,
     "status": "ok",
     "timestamp": 1596376630148,
     "user": {
      "displayName": "oz To",
      "photoUrl": "",
      "userId": "12937505880450462933"
     },
     "user_tz": -540
    },
    "id": "hTfHvb7kDVLA",
    "outputId": "c7d5d6df-3e42-4bf2-b5e2-0dbb7eee05f0",
    "slideshow": {
     "slide_type": "slide"
    }
   },
   "outputs": [
    {
     "data": {
      "image/png": "[encoded data removed]",
      "text/plain": [
       "<Figure size 864x432 with 2 Axes>"
      ]
     },
     "metadata": {
      "needs_background": "light"
     },
     "output_type": "display_data"
    }
   ],
   "source": [
    "# 성별 생존자수 비교\n",
    "f,ax=plt.subplots(1, 2, figsize=(12,6))\n",
    "\n",
    "sns.countplot('sex', data=titanic_data, ax=ax[0])\n",
    "ax[0].set_title('Count of Passengers by Sex')\n",
    "\n",
    "sns.countplot('sex', hue='survived', data=titanic_data, ax=ax[1])\n",
    "ax[1].set_title('Sex:Survived vs Dead')\n",
    "plt.show()"
   ]
  },
  {
   "cell_type": "markdown",
   "metadata": {
    "colab_type": "text",
    "id": "v9RS4qkUDUhZ",
    "slideshow": {
     "slide_type": "slide"
    }
   },
   "source": [
    "- 두배쯤 많은 남성 승객수에도 불구하고, 구조된 여성의 수가 두배쯤 더 많다는 사실이 나타남\n",
    "\n",
    "- 당시 타이타닉에 탑승했던, 그리고 죽음의 위기에 처했던 사람들 중 아이와 여성에게 삶을 양보한 사람들이 많았음을 추정\n"
   ]
  },
  {
   "cell_type": "code",
   "execution_count": 11,
   "metadata": {
    "colab": {
     "base_uri": "https://localhost:8080/",
     "height": 404
    },
    "colab_type": "code",
    "executionInfo": {
     "elapsed": 809,
     "status": "ok",
     "timestamp": 1596376633242,
     "user": {
      "displayName": "oz To",
      "photoUrl": "",
      "userId": "12937505880450462933"
     },
     "user_tz": -540
    },
    "id": "HTmXUZT7DkDb",
    "outputId": "a1e349ca-bb09-4744-f7dc-bb339302bfb4",
    "slideshow": {
     "slide_type": "slide"
    }
   },
   "outputs": [
    {
     "data": {
      "image/png": "[encoded data removed]",
      "text/plain": [
       "<Figure size 864x432 with 2 Axes>"
      ]
     },
     "metadata": {
      "needs_background": "light"
     },
     "output_type": "display_data"
    }
   ],
   "source": [
    "# 구조 보트에 탑승하고도 사망한 비율\n",
    "boat_survivors = titanic_data[titanic_data['boat'].notnull()]\n",
    "f,ax = plt.subplots(1,2,figsize=(12,6))\n",
    "\n",
    "boat_survivors['survived'].value_counts().plot.pie(explode=[0,0.1], autopct='%1.2f%%', ax=ax[0])\n",
    "ax[0].set_title('Survived')\n",
    "ax[0].set_ylabel('')\n",
    "\n",
    "sns.countplot('survived', data=boat_survivors,ax=ax[1])\n",
    "ax[1].set_title('Survived')\n",
    "plt.show()"
   ]
  },
  {
   "cell_type": "markdown",
   "metadata": {
    "colab_type": "text",
    "id": "0-HUCG1hDsyj",
    "slideshow": {
     "slide_type": "slide"
    }
   },
   "source": [
    "- 구조 보트에 탑승하고도 사망한 비율이 1.85%\n"
   ]
  },
  {
   "cell_type": "markdown",
   "metadata": {
    "colab_type": "text",
    "id": "i0mYeVLzD-MY",
    "slideshow": {
     "slide_type": "slide"
    }
   },
   "source": [
    "##### 데이터 전처리"
   ]
  },
  {
   "cell_type": "code",
   "execution_count": 12,
   "metadata": {
    "colab": {
     "base_uri": "https://localhost:8080/",
     "height": 517
    },
    "colab_type": "code",
    "executionInfo": {
     "elapsed": 726,
     "status": "ok",
     "timestamp": 1596376754957,
     "user": {
      "displayName": "oz To",
      "photoUrl": "",
      "userId": "12937505880450462933"
     },
     "user_tz": -540
    },
    "id": "TYXRwXXGIju8",
    "outputId": "2657d729-b5ff-48c5-fee9-3ea9cd70d120",
    "slideshow": {
     "slide_type": "slide"
    }
   },
   "outputs": [
    {
     "data": {
      "text/html": [
       "<div>\n",
       "<style scoped>\n",
       "    .dataframe tbody tr th:only-of-type {\n",
       "        vertical-align: middle;\n",
       "    }\n",
       "\n",
       "    .dataframe tbody tr th {\n",
       "        vertical-align: top;\n",
       "    }\n",
       "\n",
       "    .dataframe thead th {\n",
       "        text-align: right;\n",
       "    }\n",
       "</style>\n",
       "<table border=\"1\" class=\"dataframe\">\n",
       "  <thead>\n",
       "    <tr style=\"text-align: right;\">\n",
       "      <th></th>\n",
       "      <th>pclass</th>\n",
       "      <th>survived</th>\n",
       "      <th>name</th>\n",
       "      <th>sex</th>\n",
       "      <th>age</th>\n",
       "      <th>sibsp</th>\n",
       "      <th>parch</th>\n",
       "      <th>ticket</th>\n",
       "      <th>fare</th>\n",
       "      <th>cabin</th>\n",
       "      <th>embarked</th>\n",
       "      <th>boat</th>\n",
       "      <th>body</th>\n",
       "      <th>home.dest</th>\n",
       "    </tr>\n",
       "  </thead>\n",
       "  <tbody>\n",
       "    <tr>\n",
       "      <th>0</th>\n",
       "      <td>1</td>\n",
       "      <td>1</td>\n",
       "      <td>Allen, Miss. Elisabeth Walton</td>\n",
       "      <td>female</td>\n",
       "      <td>29.0000</td>\n",
       "      <td>0</td>\n",
       "      <td>0</td>\n",
       "      <td>24160</td>\n",
       "      <td>211.3375</td>\n",
       "      <td>B5</td>\n",
       "      <td>S</td>\n",
       "      <td>2</td>\n",
       "      <td>NaN</td>\n",
       "      <td>St Louis, MO</td>\n",
       "    </tr>\n",
       "    <tr>\n",
       "      <th>1</th>\n",
       "      <td>1</td>\n",
       "      <td>1</td>\n",
       "      <td>Allison, Master. Hudson Trevor</td>\n",
       "      <td>male</td>\n",
       "      <td>0.9167</td>\n",
       "      <td>1</td>\n",
       "      <td>2</td>\n",
       "      <td>113781</td>\n",
       "      <td>151.5500</td>\n",
       "      <td>C22 C26</td>\n",
       "      <td>S</td>\n",
       "      <td>11</td>\n",
       "      <td>NaN</td>\n",
       "      <td>Montreal, PQ / Chesterville, ON</td>\n",
       "    </tr>\n",
       "    <tr>\n",
       "      <th>2</th>\n",
       "      <td>1</td>\n",
       "      <td>0</td>\n",
       "      <td>Allison, Miss. Helen Loraine</td>\n",
       "      <td>female</td>\n",
       "      <td>2.0000</td>\n",
       "      <td>1</td>\n",
       "      <td>2</td>\n",
       "      <td>113781</td>\n",
       "      <td>151.5500</td>\n",
       "      <td>C22 C26</td>\n",
       "      <td>S</td>\n",
       "      <td>NaN</td>\n",
       "      <td>NaN</td>\n",
       "      <td>Montreal, PQ / Chesterville, ON</td>\n",
       "    </tr>\n",
       "    <tr>\n",
       "      <th>3</th>\n",
       "      <td>1</td>\n",
       "      <td>0</td>\n",
       "      <td>Allison, Mr. Hudson Joshua Creighton</td>\n",
       "      <td>male</td>\n",
       "      <td>30.0000</td>\n",
       "      <td>1</td>\n",
       "      <td>2</td>\n",
       "      <td>113781</td>\n",
       "      <td>151.5500</td>\n",
       "      <td>C22 C26</td>\n",
       "      <td>S</td>\n",
       "      <td>NaN</td>\n",
       "      <td>135.0</td>\n",
       "      <td>Montreal, PQ / Chesterville, ON</td>\n",
       "    </tr>\n",
       "    <tr>\n",
       "      <th>4</th>\n",
       "      <td>1</td>\n",
       "      <td>0</td>\n",
       "      <td>Allison, Mrs. Hudson J C (Bessie Waldo Daniels)</td>\n",
       "      <td>female</td>\n",
       "      <td>25.0000</td>\n",
       "      <td>1</td>\n",
       "      <td>2</td>\n",
       "      <td>113781</td>\n",
       "      <td>151.5500</td>\n",
       "      <td>C22 C26</td>\n",
       "      <td>S</td>\n",
       "      <td>NaN</td>\n",
       "      <td>NaN</td>\n",
       "      <td>Montreal, PQ / Chesterville, ON</td>\n",
       "    </tr>\n",
       "  </tbody>\n",
       "</table>\n",
       "</div>"
      ],
      "text/plain": [
       "   pclass  survived                                             name     sex  \\\n",
       "0       1         1                    Allen, Miss. Elisabeth Walton  female   \n",
       "1       1         1                   Allison, Master. Hudson Trevor    male   \n",
       "2       1         0                     Allison, Miss. Helen Loraine  female   \n",
       "3       1         0             Allison, Mr. Hudson Joshua Creighton    male   \n",
       "4       1         0  Allison, Mrs. Hudson J C (Bessie Waldo Daniels)  female   \n",
       "\n",
       "       age  sibsp  parch  ticket      fare    cabin embarked boat   body  \\\n",
       "0  29.0000      0      0   24160  211.3375       B5        S    2    NaN   \n",
       "1   0.9167      1      2  113781  151.5500  C22 C26        S   11    NaN   \n",
       "2   2.0000      1      2  113781  151.5500  C22 C26        S  NaN    NaN   \n",
       "3  30.0000      1      2  113781  151.5500  C22 C26        S  NaN  135.0   \n",
       "4  25.0000      1      2  113781  151.5500  C22 C26        S  NaN    NaN   \n",
       "\n",
       "                         home.dest  \n",
       "0                     St Louis, MO  \n",
       "1  Montreal, PQ / Chesterville, ON  \n",
       "2  Montreal, PQ / Chesterville, ON  \n",
       "3  Montreal, PQ / Chesterville, ON  \n",
       "4  Montreal, PQ / Chesterville, ON  "
      ]
     },
     "execution_count": 12,
     "metadata": {},
     "output_type": "execute_result"
    }
   ],
   "source": [
    "# 데이터 로드\n",
    "titanic_data = pd.read_excel('titanic.xls')\n",
    "titanic_data.head()"
   ]
  },
  {
   "cell_type": "code",
   "execution_count": 13,
   "metadata": {
    "colab": {
     "base_uri": "https://localhost:8080/",
     "height": 517
    },
    "colab_type": "code",
    "executionInfo": {
     "elapsed": 749,
     "status": "ok",
     "timestamp": 1596376933909,
     "user": {
      "displayName": "oz To",
      "photoUrl": "",
      "userId": "12937505880450462933"
     },
     "user_tz": -540
    },
    "id": "YKbmuxm9D_4a",
    "outputId": "994a7b9e-ca2b-401c-dbd6-ca4b4e775d81",
    "slideshow": {
     "slide_type": "slide"
    }
   },
   "outputs": [
    {
     "name": "stdout",
     "output_type": "stream",
     "text": [
      "<class 'pandas.core.frame.DataFrame'>\n",
      "RangeIndex: 1309 entries, 0 to 1308\n",
      "Data columns (total 17 columns):\n",
      " #   Column      Non-Null Count  Dtype  \n",
      "---  ------      --------------  -----  \n",
      " 0   pclass      1309 non-null   int64  \n",
      " 1   survived    1309 non-null   int64  \n",
      " 2   name        1309 non-null   object \n",
      " 3   sex         1309 non-null   object \n",
      " 4   age         1046 non-null   float64\n",
      " 5   sibsp       1309 non-null   int64  \n",
      " 6   parch       1309 non-null   int64  \n",
      " 7   ticket      1309 non-null   object \n",
      " 8   fare        1309 non-null   float64\n",
      " 9   cabin       295 non-null    object \n",
      " 10  embarked    1307 non-null   object \n",
      " 11  boat        486 non-null    object \n",
      " 12  body        121 non-null    float64\n",
      " 13  home.dest   745 non-null    object \n",
      " 14  Embarked_C  1309 non-null   bool   \n",
      " 15  Embarked_S  1309 non-null   bool   \n",
      " 16  Embarked_Q  1309 non-null   bool   \n",
      "dtypes: bool(3), float64(3), int64(4), object(7)\n",
      "memory usage: 147.1+ KB\n"
     ]
    }
   ],
   "source": [
    "# - embarked : 탑승장소별 컬럼 추가\n",
    "# S=Southhampton, C=Cherbourg, Q=Queenstown\n",
    "titanic_data[\"Embarked_C\"] = titanic_data[\"embarked\"] == \"C\"\n",
    "titanic_data[\"Embarked_S\"] = titanic_data[\"embarked\"] == \"S\"\n",
    "titanic_data[\"Embarked_Q\"] = titanic_data[\"embarked\"] == \"Q\"\n",
    "\n",
    "\n",
    "# 데이터에서 여성을 1로 남성을 0으로 설정\n",
    "titanic_data.loc[titanic_data[\"sex\"] == \"male\", \"sex\"] = 0 \n",
    "titanic_data.loc[titanic_data[\"sex\"] == \"female\", \"sex\"] = 1\n",
    "\n",
    "# fare : 지불한 운임\n",
    "mean_fare = titanic_data[\"fare\"].mean()\n",
    "\n",
    "# 결측치 채움\n",
    "titanic_data.loc[ pd.isnull(titanic_data[\"fare\"]) , \"fare\"] = mean_fare\n",
    "titanic_data[pd.isnull(titanic_data[\"fare\"])]\n",
    "\n",
    "titanic_data.head()\n",
    "titanic_data.info()"
   ]
  },
  {
   "cell_type": "code",
   "execution_count": 14,
   "metadata": {
    "colab": {
     "base_uri": "https://localhost:8080/",
     "height": 215
    },
    "colab_type": "code",
    "executionInfo": {
     "elapsed": 715,
     "status": "ok",
     "timestamp": 1596377083491,
     "user": {
      "displayName": "oz To",
      "photoUrl": "",
      "userId": "12937505880450462933"
     },
     "user_tz": -540
    },
    "id": "w55uPOyFJtab",
    "outputId": "492aceff-e3f6-4af4-c08d-3b42e7e5da5c",
    "slideshow": {
     "slide_type": "slide"
    }
   },
   "outputs": [
    {
     "name": "stdout",
     "output_type": "stream",
     "text": [
      "(1309, 6)\n"
     ]
    },
    {
     "data": {
      "text/html": [
       "<div>\n",
       "<style scoped>\n",
       "    .dataframe tbody tr th:only-of-type {\n",
       "        vertical-align: middle;\n",
       "    }\n",
       "\n",
       "    .dataframe tbody tr th {\n",
       "        vertical-align: top;\n",
       "    }\n",
       "\n",
       "    .dataframe thead th {\n",
       "        text-align: right;\n",
       "    }\n",
       "</style>\n",
       "<table border=\"1\" class=\"dataframe\">\n",
       "  <thead>\n",
       "    <tr style=\"text-align: right;\">\n",
       "      <th></th>\n",
       "      <th>pclass</th>\n",
       "      <th>sex</th>\n",
       "      <th>fare</th>\n",
       "      <th>Embarked_C</th>\n",
       "      <th>Embarked_Q</th>\n",
       "      <th>Embarked_S</th>\n",
       "    </tr>\n",
       "  </thead>\n",
       "  <tbody>\n",
       "    <tr>\n",
       "      <th>0</th>\n",
       "      <td>1</td>\n",
       "      <td>1</td>\n",
       "      <td>211.3375</td>\n",
       "      <td>False</td>\n",
       "      <td>False</td>\n",
       "      <td>True</td>\n",
       "    </tr>\n",
       "    <tr>\n",
       "      <th>1</th>\n",
       "      <td>1</td>\n",
       "      <td>0</td>\n",
       "      <td>151.5500</td>\n",
       "      <td>False</td>\n",
       "      <td>False</td>\n",
       "      <td>True</td>\n",
       "    </tr>\n",
       "    <tr>\n",
       "      <th>2</th>\n",
       "      <td>1</td>\n",
       "      <td>1</td>\n",
       "      <td>151.5500</td>\n",
       "      <td>False</td>\n",
       "      <td>False</td>\n",
       "      <td>True</td>\n",
       "    </tr>\n",
       "    <tr>\n",
       "      <th>3</th>\n",
       "      <td>1</td>\n",
       "      <td>0</td>\n",
       "      <td>151.5500</td>\n",
       "      <td>False</td>\n",
       "      <td>False</td>\n",
       "      <td>True</td>\n",
       "    </tr>\n",
       "    <tr>\n",
       "      <th>4</th>\n",
       "      <td>1</td>\n",
       "      <td>1</td>\n",
       "      <td>151.5500</td>\n",
       "      <td>False</td>\n",
       "      <td>False</td>\n",
       "      <td>True</td>\n",
       "    </tr>\n",
       "  </tbody>\n",
       "</table>\n",
       "</div>"
      ],
      "text/plain": [
       "   pclass sex      fare  Embarked_C  Embarked_Q  Embarked_S\n",
       "0       1   1  211.3375       False       False        True\n",
       "1       1   0  151.5500       False       False        True\n",
       "2       1   1  151.5500       False       False        True\n",
       "3       1   0  151.5500       False       False        True\n",
       "4       1   1  151.5500       False       False        True"
      ]
     },
     "execution_count": 14,
     "metadata": {},
     "output_type": "execute_result"
    }
   ],
   "source": [
    "# Feature 선택\n",
    "# X = 객실 클래스, 성별, 요금, 선착장 3개, 총 6요소\n",
    "feature_names = [\"pclass\", \"sex\", \"fare\", \"Embarked_C\", \"Embarked_Q\", \"Embarked_S\"]\n",
    "\n",
    "X = titanic_data[feature_names]\n",
    "\n",
    "print(X.shape)\n",
    "X.head()"
   ]
  },
  {
   "cell_type": "code",
   "execution_count": 15,
   "metadata": {
    "colab": {
     "base_uri": "https://localhost:8080/",
     "height": 141
    },
    "colab_type": "code",
    "executionInfo": {
     "elapsed": 688,
     "status": "ok",
     "timestamp": 1596377108648,
     "user": {
      "displayName": "oz To",
      "photoUrl": "",
      "userId": "12937505880450462933"
     },
     "user_tz": -540
    },
    "id": "XujT0DO6KPOb",
    "outputId": "77c95fbe-63e7-47cb-ed7d-0f89abf66571",
    "slideshow": {
     "slide_type": "slide"
    }
   },
   "outputs": [
    {
     "name": "stdout",
     "output_type": "stream",
     "text": [
      "(1309,)\n"
     ]
    },
    {
     "data": {
      "text/plain": [
       "0    1\n",
       "1    1\n",
       "2    0\n",
       "3    0\n",
       "4    0\n",
       "Name: survived, dtype: int64"
      ]
     },
     "execution_count": 15,
     "metadata": {},
     "output_type": "execute_result"
    }
   ],
   "source": [
    "# 정답셋 준비\n",
    "# y = \"survived\"\n",
    "label_name = \"survived\"\n",
    "\n",
    "y = titanic_data[label_name]\n",
    "\n",
    "print(y.shape)\n",
    "y.head()"
   ]
  },
  {
   "cell_type": "markdown",
   "metadata": {
    "colab_type": "text",
    "id": "nhHVKBDBEwtS",
    "slideshow": {
     "slide_type": "slide"
    }
   },
   "source": [
    "#### Decision Tree 실습 05\n",
    "\n",
    "결정트리로 타이타닉 생존자 예측"
   ]
  },
  {
   "cell_type": "code",
   "execution_count": 16,
   "metadata": {
    "colab": {},
    "colab_type": "code",
    "id": "Xj6R6y9j7hfD",
    "slideshow": {
     "slide_type": "slide"
    }
   },
   "outputs": [],
   "source": [
    "# 데이터 분리\n",
    "from sklearn.model_selection import train_test_split\n",
    "\n",
    "X_train, X_test, y_train, y_test = train_test_split(X,\n",
    "                                                    y,\n",
    "                                                    test_size=0.1,\n",
    "                                                    random_state=13)"
   ]
  },
  {
   "cell_type": "code",
   "execution_count": 17,
   "metadata": {
    "colab": {},
    "colab_type": "code",
    "id": "aw_nxJbA7kuo",
    "slideshow": {
     "slide_type": "slide"
    }
   },
   "outputs": [
    {
     "name": "stdout",
     "output_type": "stream",
     "text": [
      "Train Score: 0.799\n",
      "Test Score: 0.817\n"
     ]
    }
   ],
   "source": [
    "# 결정트리 적용\n",
    "from sklearn.tree import DecisionTreeClassifier\n",
    "\n",
    "model = DecisionTreeClassifier(max_depth=3, random_state=13)\n",
    "model.fit(X_train, y_train)\n",
    "print('Train Score: {:.3f}'.format(model.score(X_train, y_train)))\n",
    "print('Test Score: {:.3f}'.format(model.score(X_test, y_test)))"
   ]
  },
  {
   "cell_type": "code",
   "execution_count": 18,
   "metadata": {
    "colab": {},
    "colab_type": "code",
    "id": "J8wOaQyu7sP6",
    "slideshow": {
     "slide_type": "slide"
    }
   },
   "outputs": [
    {
     "data": {
      "image/svg+xml": [
       "<?xml version=\"1.0\" encoding=\"UTF-8\" standalone=\"no\"?>\r\n",
       "<!DOCTYPE svg PUBLIC \"-//W3C//DTD SVG 1.1//EN\"\r\n",
       " \"http://www.w3.org/Graphics/SVG/1.1/DTD/svg11.dtd\">\r\n",
       "<!-- Generated by graphviz version 2.38.0 (20140413.2041)\r\n",
       " -->\r\n",
       "<!-- Title: Tree Pages: 1 -->\r\n",
       "<svg width=\"1032pt\" height=\"373pt\"\r\n",
       " viewBox=\"0.00 0.00 1032.00 373.00\" xmlns=\"http://www.w3.org/2000/svg\" xmlns:xlink=\"http://www.w3.org/1999/xlink\">\r\n",
       "<g id=\"graph0\" class=\"graph\" transform=\"scale(1 1) rotate(0) translate(4 369)\">\r\n",
       "<title>Tree</title>\r\n",
       "<polygon fill=\"white\" stroke=\"none\" points=\"-4,4 -4,-369 1028,-369 1028,4 -4,4\"/>\r\n",
       "<!-- 0 -->\r\n",
       "<g id=\"node1\" class=\"node\"><title>0</title>\r\n",
       "<path fill=\"#f5d0b5\" stroke=\"black\" d=\"M569.5,-365C569.5,-365 463.5,-365 463.5,-365 457.5,-365 451.5,-359 451.5,-353 451.5,-353 451.5,-309 451.5,-309 451.5,-303 457.5,-297 463.5,-297 463.5,-297 569.5,-297 569.5,-297 575.5,-297 581.5,-303 581.5,-309 581.5,-309 581.5,-353 581.5,-353 581.5,-359 575.5,-365 569.5,-365\"/>\r\n",
       "<text text-anchor=\"middle\" x=\"516.5\" y=\"-349.8\" font-family=\"Helvetica,sans-Serif\" font-size=\"14.00\">X[1] &lt;= 0.5</text>\r\n",
       "<text text-anchor=\"middle\" x=\"516.5\" y=\"-334.8\" font-family=\"Helvetica,sans-Serif\" font-size=\"14.00\">gini = 0.473</text>\r\n",
       "<text text-anchor=\"middle\" x=\"516.5\" y=\"-319.8\" font-family=\"Helvetica,sans-Serif\" font-size=\"14.00\">samples = 1178</text>\r\n",
       "<text text-anchor=\"middle\" x=\"516.5\" y=\"-304.8\" font-family=\"Helvetica,sans-Serif\" font-size=\"14.00\">value = [725, 453]</text>\r\n",
       "</g>\r\n",
       "<!-- 1 -->\r\n",
       "<g id=\"node2\" class=\"node\"><title>1</title>\r\n",
       "<path fill=\"#eba069\" stroke=\"black\" d=\"M468.5,-261C468.5,-261 362.5,-261 362.5,-261 356.5,-261 350.5,-255 350.5,-249 350.5,-249 350.5,-205 350.5,-205 350.5,-199 356.5,-193 362.5,-193 362.5,-193 468.5,-193 468.5,-193 474.5,-193 480.5,-199 480.5,-205 480.5,-205 480.5,-249 480.5,-249 480.5,-255 474.5,-261 468.5,-261\"/>\r\n",
       "<text text-anchor=\"middle\" x=\"415.5\" y=\"-245.8\" font-family=\"Helvetica,sans-Serif\" font-size=\"14.00\">X[0] &lt;= 1.5</text>\r\n",
       "<text text-anchor=\"middle\" x=\"415.5\" y=\"-230.8\" font-family=\"Helvetica,sans-Serif\" font-size=\"14.00\">gini = 0.316</text>\r\n",
       "<text text-anchor=\"middle\" x=\"415.5\" y=\"-215.8\" font-family=\"Helvetica,sans-Serif\" font-size=\"14.00\">samples = 763</text>\r\n",
       "<text text-anchor=\"middle\" x=\"415.5\" y=\"-200.8\" font-family=\"Helvetica,sans-Serif\" font-size=\"14.00\">value = [613, 150]</text>\r\n",
       "</g>\r\n",
       "<!-- 0&#45;&gt;1 -->\r\n",
       "<g id=\"edge1\" class=\"edge\"><title>0&#45;&gt;1</title>\r\n",
       "<path fill=\"none\" stroke=\"black\" d=\"M483.708,-296.884C474.8,-287.887 465.05,-278.041 455.78,-268.678\"/>\r\n",
       "<polygon fill=\"black\" stroke=\"black\" points=\"457.996,-265.943 448.473,-261.299 453.022,-270.868 457.996,-265.943\"/>\r\n",
       "<text text-anchor=\"middle\" x=\"448.35\" y=\"-282.599\" font-family=\"Helvetica,sans-Serif\" font-size=\"14.00\">True</text>\r\n",
       "</g>\r\n",
       "<!-- 8 -->\r\n",
       "<g id=\"node9\" class=\"node\"><title>8</title>\r\n",
       "<path fill=\"#82c1ef\" stroke=\"black\" d=\"M671.5,-261C671.5,-261 565.5,-261 565.5,-261 559.5,-261 553.5,-255 553.5,-249 553.5,-249 553.5,-205 553.5,-205 553.5,-199 559.5,-193 565.5,-193 565.5,-193 671.5,-193 671.5,-193 677.5,-193 683.5,-199 683.5,-205 683.5,-205 683.5,-249 683.5,-249 683.5,-255 677.5,-261 671.5,-261\"/>\r\n",
       "<text text-anchor=\"middle\" x=\"618.5\" y=\"-245.8\" font-family=\"Helvetica,sans-Serif\" font-size=\"14.00\">X[0] &lt;= 2.5</text>\r\n",
       "<text text-anchor=\"middle\" x=\"618.5\" y=\"-230.8\" font-family=\"Helvetica,sans-Serif\" font-size=\"14.00\">gini = 0.394</text>\r\n",
       "<text text-anchor=\"middle\" x=\"618.5\" y=\"-215.8\" font-family=\"Helvetica,sans-Serif\" font-size=\"14.00\">samples = 415</text>\r\n",
       "<text text-anchor=\"middle\" x=\"618.5\" y=\"-200.8\" font-family=\"Helvetica,sans-Serif\" font-size=\"14.00\">value = [112, 303]</text>\r\n",
       "</g>\r\n",
       "<!-- 0&#45;&gt;8 -->\r\n",
       "<g id=\"edge8\" class=\"edge\"><title>0&#45;&gt;8</title>\r\n",
       "<path fill=\"none\" stroke=\"black\" d=\"M549.616,-296.884C558.702,-287.798 568.655,-277.845 578.1,-268.4\"/>\r\n",
       "<polygon fill=\"black\" stroke=\"black\" points=\"580.604,-270.845 585.201,-261.299 575.655,-265.896 580.604,-270.845\"/>\r\n",
       "<text text-anchor=\"middle\" x=\"585.201\" y=\"-282.599\" font-family=\"Helvetica,sans-Serif\" font-size=\"14.00\">False</text>\r\n",
       "</g>\r\n",
       "<!-- 2 -->\r\n",
       "<g id=\"node3\" class=\"node\"><title>2</title>\r\n",
       "<path fill=\"#f4c9aa\" stroke=\"black\" d=\"M232.5,-157C232.5,-157 134.5,-157 134.5,-157 128.5,-157 122.5,-151 122.5,-145 122.5,-145 122.5,-101 122.5,-101 122.5,-95 128.5,-89 134.5,-89 134.5,-89 232.5,-89 232.5,-89 238.5,-89 244.5,-95 244.5,-101 244.5,-101 244.5,-145 244.5,-145 244.5,-151 238.5,-157 232.5,-157\"/>\r\n",
       "<text text-anchor=\"middle\" x=\"183.5\" y=\"-141.8\" font-family=\"Helvetica,sans-Serif\" font-size=\"14.00\">X[2] &lt;= 152.506</text>\r\n",
       "<text text-anchor=\"middle\" x=\"183.5\" y=\"-126.8\" font-family=\"Helvetica,sans-Serif\" font-size=\"14.00\">gini = 0.462</text>\r\n",
       "<text text-anchor=\"middle\" x=\"183.5\" y=\"-111.8\" font-family=\"Helvetica,sans-Serif\" font-size=\"14.00\">samples = 157</text>\r\n",
       "<text text-anchor=\"middle\" x=\"183.5\" y=\"-96.8\" font-family=\"Helvetica,sans-Serif\" font-size=\"14.00\">value = [100, 57]</text>\r\n",
       "</g>\r\n",
       "<!-- 1&#45;&gt;2 -->\r\n",
       "<g id=\"edge2\" class=\"edge\"><title>1&#45;&gt;2</title>\r\n",
       "<path fill=\"none\" stroke=\"black\" d=\"M350.258,-197.316C320.257,-184.126 284.615,-168.456 253.998,-154.995\"/>\r\n",
       "<polygon fill=\"black\" stroke=\"black\" points=\"255.233,-151.714 244.67,-150.894 252.415,-158.122 255.233,-151.714\"/>\r\n",
       "</g>\r\n",
       "<!-- 5 -->\r\n",
       "<g id=\"node6\" class=\"node\"><title>5</title>\r\n",
       "<path fill=\"#ea985d\" stroke=\"black\" d=\"M464.5,-157C464.5,-157 366.5,-157 366.5,-157 360.5,-157 354.5,-151 354.5,-145 354.5,-145 354.5,-101 354.5,-101 354.5,-95 360.5,-89 366.5,-89 366.5,-89 464.5,-89 464.5,-89 470.5,-89 476.5,-95 476.5,-101 476.5,-101 476.5,-145 476.5,-145 476.5,-151 470.5,-157 464.5,-157\"/>\r\n",
       "<text text-anchor=\"middle\" x=\"415.5\" y=\"-141.8\" font-family=\"Helvetica,sans-Serif\" font-size=\"14.00\">X[3] &lt;= 0.5</text>\r\n",
       "<text text-anchor=\"middle\" x=\"415.5\" y=\"-126.8\" font-family=\"Helvetica,sans-Serif\" font-size=\"14.00\">gini = 0.26</text>\r\n",
       "<text text-anchor=\"middle\" x=\"415.5\" y=\"-111.8\" font-family=\"Helvetica,sans-Serif\" font-size=\"14.00\">samples = 606</text>\r\n",
       "<text text-anchor=\"middle\" x=\"415.5\" y=\"-96.8\" font-family=\"Helvetica,sans-Serif\" font-size=\"14.00\">value = [513, 93]</text>\r\n",
       "</g>\r\n",
       "<!-- 1&#45;&gt;5 -->\r\n",
       "<g id=\"edge5\" class=\"edge\"><title>1&#45;&gt;5</title>\r\n",
       "<path fill=\"none\" stroke=\"black\" d=\"M415.5,-192.884C415.5,-184.778 415.5,-175.982 415.5,-167.472\"/>\r\n",
       "<polygon fill=\"black\" stroke=\"black\" points=\"419,-167.299 415.5,-157.299 412,-167.299 419,-167.299\"/>\r\n",
       "</g>\r\n",
       "<!-- 3 -->\r\n",
       "<g id=\"node4\" class=\"node\"><title>3</title>\r\n",
       "<path fill=\"#f5d0b6\" stroke=\"black\" d=\"M101,-53C101,-53 12,-53 12,-53 6,-53 0,-47 0,-41 0,-41 0,-12 0,-12 0,-6 6,-0 12,-0 12,-0 101,-0 101,-0 107,-0 113,-6 113,-12 113,-12 113,-41 113,-41 113,-47 107,-53 101,-53\"/>\r\n",
       "<text text-anchor=\"middle\" x=\"56.5\" y=\"-37.8\" font-family=\"Helvetica,sans-Serif\" font-size=\"14.00\">gini = 0.474</text>\r\n",
       "<text text-anchor=\"middle\" x=\"56.5\" y=\"-22.8\" font-family=\"Helvetica,sans-Serif\" font-size=\"14.00\">samples = 145</text>\r\n",
       "<text text-anchor=\"middle\" x=\"56.5\" y=\"-7.8\" font-family=\"Helvetica,sans-Serif\" font-size=\"14.00\">value = [89, 56]</text>\r\n",
       "</g>\r\n",
       "<!-- 2&#45;&gt;3 -->\r\n",
       "<g id=\"edge3\" class=\"edge\"><title>2&#45;&gt;3</title>\r\n",
       "<path fill=\"none\" stroke=\"black\" d=\"M139.082,-88.9485C126.173,-79.3431 112.104,-68.8747 99.297,-59.345\"/>\r\n",
       "<polygon fill=\"black\" stroke=\"black\" points=\"101.2,-56.3984 91.088,-53.2367 97.0213,-62.0143 101.2,-56.3984\"/>\r\n",
       "</g>\r\n",
       "<!-- 4 -->\r\n",
       "<g id=\"node5\" class=\"node\"><title>4</title>\r\n",
       "<path fill=\"#e78c4b\" stroke=\"black\" d=\"M224,-53C224,-53 143,-53 143,-53 137,-53 131,-47 131,-41 131,-41 131,-12 131,-12 131,-6 137,-0 143,-0 143,-0 224,-0 224,-0 230,-0 236,-6 236,-12 236,-12 236,-41 236,-41 236,-47 230,-53 224,-53\"/>\r\n",
       "<text text-anchor=\"middle\" x=\"183.5\" y=\"-37.8\" font-family=\"Helvetica,sans-Serif\" font-size=\"14.00\">gini = 0.153</text>\r\n",
       "<text text-anchor=\"middle\" x=\"183.5\" y=\"-22.8\" font-family=\"Helvetica,sans-Serif\" font-size=\"14.00\">samples = 12</text>\r\n",
       "<text text-anchor=\"middle\" x=\"183.5\" y=\"-7.8\" font-family=\"Helvetica,sans-Serif\" font-size=\"14.00\">value = [11, 1]</text>\r\n",
       "</g>\r\n",
       "<!-- 2&#45;&gt;4 -->\r\n",
       "<g id=\"edge4\" class=\"edge\"><title>2&#45;&gt;4</title>\r\n",
       "<path fill=\"none\" stroke=\"black\" d=\"M183.5,-88.9485C183.5,-80.7153 183.5,-71.848 183.5,-63.4814\"/>\r\n",
       "<polygon fill=\"black\" stroke=\"black\" points=\"187,-63.2367 183.5,-53.2367 180,-63.2367 187,-63.2367\"/>\r\n",
       "</g>\r\n",
       "<!-- 6 -->\r\n",
       "<g id=\"node7\" class=\"node\"><title>6</title>\r\n",
       "<path fill=\"#e99659\" stroke=\"black\" d=\"M364.5,-53C364.5,-53 266.5,-53 266.5,-53 260.5,-53 254.5,-47 254.5,-41 254.5,-41 254.5,-12 254.5,-12 254.5,-6 260.5,-0 266.5,-0 266.5,-0 364.5,-0 364.5,-0 370.5,-0 376.5,-6 376.5,-12 376.5,-12 376.5,-41 376.5,-41 376.5,-47 370.5,-53 364.5,-53\"/>\r\n",
       "<text text-anchor=\"middle\" x=\"315.5\" y=\"-37.8\" font-family=\"Helvetica,sans-Serif\" font-size=\"14.00\">gini = 0.241</text>\r\n",
       "<text text-anchor=\"middle\" x=\"315.5\" y=\"-22.8\" font-family=\"Helvetica,sans-Serif\" font-size=\"14.00\">samples = 527</text>\r\n",
       "<text text-anchor=\"middle\" x=\"315.5\" y=\"-7.8\" font-family=\"Helvetica,sans-Serif\" font-size=\"14.00\">value = [453, 74]</text>\r\n",
       "</g>\r\n",
       "<!-- 5&#45;&gt;6 -->\r\n",
       "<g id=\"edge6\" class=\"edge\"><title>5&#45;&gt;6</title>\r\n",
       "<path fill=\"none\" stroke=\"black\" d=\"M380.525,-88.9485C370.651,-79.6175 359.915,-69.4722 350.065,-60.1641\"/>\r\n",
       "<polygon fill=\"black\" stroke=\"black\" points=\"352.407,-57.5613 342.735,-53.2367 347.599,-62.649 352.407,-57.5613\"/>\r\n",
       "</g>\r\n",
       "<!-- 7 -->\r\n",
       "<g id=\"node8\" class=\"node\"><title>7</title>\r\n",
       "<path fill=\"#eda978\" stroke=\"black\" d=\"M496,-53C496,-53 407,-53 407,-53 401,-53 395,-47 395,-41 395,-41 395,-12 395,-12 395,-6 401,-0 407,-0 407,-0 496,-0 496,-0 502,-0 508,-6 508,-12 508,-12 508,-41 508,-41 508,-47 502,-53 496,-53\"/>\r\n",
       "<text text-anchor=\"middle\" x=\"451.5\" y=\"-37.8\" font-family=\"Helvetica,sans-Serif\" font-size=\"14.00\">gini = 0.365</text>\r\n",
       "<text text-anchor=\"middle\" x=\"451.5\" y=\"-22.8\" font-family=\"Helvetica,sans-Serif\" font-size=\"14.00\">samples = 79</text>\r\n",
       "<text text-anchor=\"middle\" x=\"451.5\" y=\"-7.8\" font-family=\"Helvetica,sans-Serif\" font-size=\"14.00\">value = [60, 19]</text>\r\n",
       "</g>\r\n",
       "<!-- 5&#45;&gt;7 -->\r\n",
       "<g id=\"edge7\" class=\"edge\"><title>5&#45;&gt;7</title>\r\n",
       "<path fill=\"none\" stroke=\"black\" d=\"M428.091,-88.9485C431.332,-80.4408 434.831,-71.2562 438.111,-62.6464\"/>\r\n",
       "<polygon fill=\"black\" stroke=\"black\" points=\"441.406,-63.8276 441.696,-53.2367 434.865,-61.3356 441.406,-63.8276\"/>\r\n",
       "</g>\r\n",
       "<!-- 9 -->\r\n",
       "<g id=\"node10\" class=\"node\"><title>9</title>\r\n",
       "<path fill=\"#46a4e7\" stroke=\"black\" d=\"M667.5,-157C667.5,-157 569.5,-157 569.5,-157 563.5,-157 557.5,-151 557.5,-145 557.5,-145 557.5,-101 557.5,-101 557.5,-95 563.5,-89 569.5,-89 569.5,-89 667.5,-89 667.5,-89 673.5,-89 679.5,-95 679.5,-101 679.5,-101 679.5,-145 679.5,-145 679.5,-151 673.5,-157 667.5,-157\"/>\r\n",
       "<text text-anchor=\"middle\" x=\"618.5\" y=\"-141.8\" font-family=\"Helvetica,sans-Serif\" font-size=\"14.00\">X[2] &lt;= 32.09</text>\r\n",
       "<text text-anchor=\"middle\" x=\"618.5\" y=\"-126.8\" font-family=\"Helvetica,sans-Serif\" font-size=\"14.00\">gini = 0.119</text>\r\n",
       "<text text-anchor=\"middle\" x=\"618.5\" y=\"-111.8\" font-family=\"Helvetica,sans-Serif\" font-size=\"14.00\">samples = 220</text>\r\n",
       "<text text-anchor=\"middle\" x=\"618.5\" y=\"-96.8\" font-family=\"Helvetica,sans-Serif\" font-size=\"14.00\">value = [14, 206]</text>\r\n",
       "</g>\r\n",
       "<!-- 8&#45;&gt;9 -->\r\n",
       "<g id=\"edge9\" class=\"edge\"><title>8&#45;&gt;9</title>\r\n",
       "<path fill=\"none\" stroke=\"black\" d=\"M618.5,-192.884C618.5,-184.778 618.5,-175.982 618.5,-167.472\"/>\r\n",
       "<polygon fill=\"black\" stroke=\"black\" points=\"622,-167.299 618.5,-157.299 615,-167.299 622,-167.299\"/>\r\n",
       "</g>\r\n",
       "<!-- 12 -->\r\n",
       "<g id=\"node13\" class=\"node\"><title>12</title>\r\n",
       "<path fill=\"#fffefd\" stroke=\"black\" d=\"M889,-157C889,-157 800,-157 800,-157 794,-157 788,-151 788,-145 788,-145 788,-101 788,-101 788,-95 794,-89 800,-89 800,-89 889,-89 889,-89 895,-89 901,-95 901,-101 901,-101 901,-145 901,-145 901,-151 895,-157 889,-157\"/>\r\n",
       "<text text-anchor=\"middle\" x=\"844.5\" y=\"-141.8\" font-family=\"Helvetica,sans-Serif\" font-size=\"14.00\">X[2] &lt;= 23.35</text>\r\n",
       "<text text-anchor=\"middle\" x=\"844.5\" y=\"-126.8\" font-family=\"Helvetica,sans-Serif\" font-size=\"14.00\">gini = 0.5</text>\r\n",
       "<text text-anchor=\"middle\" x=\"844.5\" y=\"-111.8\" font-family=\"Helvetica,sans-Serif\" font-size=\"14.00\">samples = 195</text>\r\n",
       "<text text-anchor=\"middle\" x=\"844.5\" y=\"-96.8\" font-family=\"Helvetica,sans-Serif\" font-size=\"14.00\">value = [98, 97]</text>\r\n",
       "</g>\r\n",
       "<!-- 8&#45;&gt;12 -->\r\n",
       "<g id=\"edge12\" class=\"edge\"><title>8&#45;&gt;12</title>\r\n",
       "<path fill=\"none\" stroke=\"black\" d=\"M683.565,-196.634C713.464,-183.14 748.858,-167.166 778.83,-153.639\"/>\r\n",
       "<polygon fill=\"black\" stroke=\"black\" points=\"780.27,-156.829 787.945,-149.525 777.391,-150.448 780.27,-156.829\"/>\r\n",
       "</g>\r\n",
       "<!-- 10 -->\r\n",
       "<g id=\"node11\" class=\"node\"><title>10</title>\r\n",
       "<path fill=\"#56abe9\" stroke=\"black\" d=\"M627,-53C627,-53 538,-53 538,-53 532,-53 526,-47 526,-41 526,-41 526,-12 526,-12 526,-6 532,-0 538,-0 538,-0 627,-0 627,-0 633,-0 639,-6 639,-12 639,-12 639,-41 639,-41 639,-47 633,-53 627,-53\"/>\r\n",
       "<text text-anchor=\"middle\" x=\"582.5\" y=\"-37.8\" font-family=\"Helvetica,sans-Serif\" font-size=\"14.00\">gini = 0.221</text>\r\n",
       "<text text-anchor=\"middle\" x=\"582.5\" y=\"-22.8\" font-family=\"Helvetica,sans-Serif\" font-size=\"14.00\">samples = 95</text>\r\n",
       "<text text-anchor=\"middle\" x=\"582.5\" y=\"-7.8\" font-family=\"Helvetica,sans-Serif\" font-size=\"14.00\">value = [12, 83]</text>\r\n",
       "</g>\r\n",
       "<!-- 9&#45;&gt;10 -->\r\n",
       "<g id=\"edge10\" class=\"edge\"><title>9&#45;&gt;10</title>\r\n",
       "<path fill=\"none\" stroke=\"black\" d=\"M605.909,-88.9485C602.668,-80.4408 599.169,-71.2562 595.889,-62.6464\"/>\r\n",
       "<polygon fill=\"black\" stroke=\"black\" points=\"599.135,-61.3356 592.304,-53.2367 592.594,-63.8276 599.135,-61.3356\"/>\r\n",
       "</g>\r\n",
       "<!-- 11 -->\r\n",
       "<g id=\"node12\" class=\"node\"><title>11</title>\r\n",
       "<path fill=\"#3c9fe5\" stroke=\"black\" d=\"M758,-53C758,-53 669,-53 669,-53 663,-53 657,-47 657,-41 657,-41 657,-12 657,-12 657,-6 663,-0 669,-0 669,-0 758,-0 758,-0 764,-0 770,-6 770,-12 770,-12 770,-41 770,-41 770,-47 764,-53 758,-53\"/>\r\n",
       "<text text-anchor=\"middle\" x=\"713.5\" y=\"-37.8\" font-family=\"Helvetica,sans-Serif\" font-size=\"14.00\">gini = 0.031</text>\r\n",
       "<text text-anchor=\"middle\" x=\"713.5\" y=\"-22.8\" font-family=\"Helvetica,sans-Serif\" font-size=\"14.00\">samples = 125</text>\r\n",
       "<text text-anchor=\"middle\" x=\"713.5\" y=\"-7.8\" font-family=\"Helvetica,sans-Serif\" font-size=\"14.00\">value = [2, 123]</text>\r\n",
       "</g>\r\n",
       "<!-- 9&#45;&gt;11 -->\r\n",
       "<g id=\"edge11\" class=\"edge\"><title>9&#45;&gt;11</title>\r\n",
       "<path fill=\"none\" stroke=\"black\" d=\"M651.726,-88.9485C661.015,-79.709 671.106,-69.671 680.388,-60.4381\"/>\r\n",
       "<polygon fill=\"black\" stroke=\"black\" points=\"683.006,-62.7705 687.627,-53.2367 678.069,-57.8077 683.006,-62.7705\"/>\r\n",
       "</g>\r\n",
       "<!-- 13 -->\r\n",
       "<g id=\"node14\" class=\"node\"><title>13</title>\r\n",
       "<path fill=\"#cce6f8\" stroke=\"black\" d=\"M889,-53C889,-53 800,-53 800,-53 794,-53 788,-47 788,-41 788,-41 788,-12 788,-12 788,-6 794,-0 800,-0 800,-0 889,-0 889,-0 895,-0 901,-6 901,-12 901,-12 901,-41 901,-41 901,-47 895,-53 889,-53\"/>\r\n",
       "<text text-anchor=\"middle\" x=\"844.5\" y=\"-37.8\" font-family=\"Helvetica,sans-Serif\" font-size=\"14.00\">gini = 0.489</text>\r\n",
       "<text text-anchor=\"middle\" x=\"844.5\" y=\"-22.8\" font-family=\"Helvetica,sans-Serif\" font-size=\"14.00\">samples = 164</text>\r\n",
       "<text text-anchor=\"middle\" x=\"844.5\" y=\"-7.8\" font-family=\"Helvetica,sans-Serif\" font-size=\"14.00\">value = [70, 94]</text>\r\n",
       "</g>\r\n",
       "<!-- 12&#45;&gt;13 -->\r\n",
       "<g id=\"edge13\" class=\"edge\"><title>12&#45;&gt;13</title>\r\n",
       "<path fill=\"none\" stroke=\"black\" d=\"M844.5,-88.9485C844.5,-80.7153 844.5,-71.848 844.5,-63.4814\"/>\r\n",
       "<polygon fill=\"black\" stroke=\"black\" points=\"848,-63.2367 844.5,-53.2367 841,-63.2367 848,-63.2367\"/>\r\n",
       "</g>\r\n",
       "<!-- 14 -->\r\n",
       "<g id=\"node15\" class=\"node\"><title>14</title>\r\n",
       "<path fill=\"#e88e4e\" stroke=\"black\" d=\"M1012,-53C1012,-53 931,-53 931,-53 925,-53 919,-47 919,-41 919,-41 919,-12 919,-12 919,-6 925,-0 931,-0 931,-0 1012,-0 1012,-0 1018,-0 1024,-6 1024,-12 1024,-12 1024,-41 1024,-41 1024,-47 1018,-53 1012,-53\"/>\r\n",
       "<text text-anchor=\"middle\" x=\"971.5\" y=\"-37.8\" font-family=\"Helvetica,sans-Serif\" font-size=\"14.00\">gini = 0.175</text>\r\n",
       "<text text-anchor=\"middle\" x=\"971.5\" y=\"-22.8\" font-family=\"Helvetica,sans-Serif\" font-size=\"14.00\">samples = 31</text>\r\n",
       "<text text-anchor=\"middle\" x=\"971.5\" y=\"-7.8\" font-family=\"Helvetica,sans-Serif\" font-size=\"14.00\">value = [28, 3]</text>\r\n",
       "</g>\r\n",
       "<!-- 12&#45;&gt;14 -->\r\n",
       "<g id=\"edge14\" class=\"edge\"><title>12&#45;&gt;14</title>\r\n",
       "<path fill=\"none\" stroke=\"black\" d=\"M888.918,-88.9485C901.827,-79.3431 915.896,-68.8747 928.703,-59.345\"/>\r\n",
       "<polygon fill=\"black\" stroke=\"black\" points=\"930.979,-62.0143 936.912,-53.2367 926.8,-56.3984 930.979,-62.0143\"/>\r\n",
       "</g>\r\n",
       "</g>\r\n",
       "</svg>\r\n"
      ],
      "text/plain": [
       "<graphviz.files.Source at 0x28607437708>"
      ]
     },
     "metadata": {},
     "output_type": "display_data"
    }
   ],
   "source": [
    "# 트리 구조 시각화하기\n",
    "from sklearn.tree import export_graphviz\n",
    "import graphviz\n",
    "\n",
    "dot_graph = export_graphviz(model, out_file=None,\n",
    "                           impurity=True, filled=True, rounded=True)\n",
    "display( graphviz.Source(dot_graph) )"
   ]
  },
  {
   "cell_type": "code",
   "execution_count": 19,
   "metadata": {
    "colab": {},
    "colab_type": "code",
    "id": "xWIMV4wV7ypU",
    "slideshow": {
     "slide_type": "slide"
    }
   },
   "outputs": [
    {
     "name": "stdout",
     "output_type": "stream",
     "text": [
      "Dicaprio  is  not survived  -->  0.759493670886076\n",
      "Winslet  is  survived  -->  0.8736842105263158\n"
     ]
    }
   ],
   "source": [
    "# 실제 데이터를 넣어서 예측하기\n",
    "# pclass, sex, age, sibsp, parch, fare\n",
    "# dicaprio = [3., 0., 19., 0., 0., 5.]\n",
    "# winslet  = [1., 1., 17., 1., 2., 100.]\n",
    "dicaprio = [3., 0., 19., True, False, False]\n",
    "winslet  = [1., 1., 17., False, False, True]\n",
    "\n",
    "def isSurvived(name, person):\n",
    "    isSurvive = 'not survived' if model.predict([person])[0] == 0 else 'survived'\n",
    "    print(name, ' is ', isSurvive, \n",
    "          ' --> ', max(model.predict_proba([person])[0]))\n",
    "    \n",
    "isSurvived('Dicaprio', dicaprio)\n",
    "isSurvived('Winslet', winslet)"
   ]
  }
 ],
 "metadata": {
  "celltoolbar": "Slideshow",
  "colab": {
   "authorship_tag": "ABX9TyNqW8h0tQHrzvWAfxatV/+X",
   "collapsed_sections": [],
   "name": "ml_08_지도학습_DecisionTree.ipynb",
   "provenance": []
  },
  "kernelspec": {
   "display_name": "Python 3",
   "language": "python",
   "name": "python3"
  },
  "language_info": {
   "codemirror_mode": {
    "name": "ipython",
    "version": 3
   },
   "file_extension": ".py",
   "mimetype": "text/x-python",
   "name": "python",
   "nbconvert_exporter": "python",
   "pygments_lexer": "ipython3",
   "version": "3.7.6"
  }
 },
 "nbformat": 4,
 "nbformat_minor": 1
}
