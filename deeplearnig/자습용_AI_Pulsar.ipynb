{
 "cells": [
  {
   "cell_type": "markdown",
   "metadata": {},
   "source": [
    "데이터 다운로드 주소입니다. \n",
    "https://www.kaggle.com/pavanraj159/predicting-a-pulsar-star"
   ]
  },
  {
   "cell_type": "code",
   "execution_count": 14,
   "metadata": {},
   "outputs": [],
   "source": [
    "%run ../../leeyua/AI_CODE/AI_abalone.ipynb "
   ]
  },
  {
   "cell_type": "markdown",
   "metadata": {},
   "source": [
    "## A.1 실험용 메인 함수 정의"
   ]
  },
  {
   "cell_type": "code",
   "execution_count": 15,
   "metadata": {},
   "outputs": [],
   "source": [
    "def pulsar_exec(epoch_count = 10,mb_size = 10, report=1 ): \n",
    "    load_pulsar_dataset()     \n",
    "    init_model()            \n",
    "    train_and_test(epoch_count, mb_size, report)"
   ]
  },
  {
   "cell_type": "markdown",
   "metadata": {},
   "source": [
    "## B.1 데이터 적재 함수 정의"
   ]
  },
  {
   "cell_type": "code",
   "execution_count": 16,
   "metadata": {},
   "outputs": [],
   "source": [
    "def load_pulsar_dataset(): \n",
    "    with open('pulsar_stars.csv') as csvfile:\n",
    "        csvreader = csv.reader(csvfile)\n",
    "        next(csvreader, None)\n",
    "        rows = [] \n",
    "        for row in csvreader:\n",
    "            rows.append(row)\n",
    "    \n",
    "    global data, input_cnt, output_cnt  \n",
    "    input_cnt, output_cnt = 8,1\n",
    "    data = np.asarray(rows, dtype = 'float32') "
   ]
  },
  {
   "cell_type": "markdown",
   "metadata": {},
   "source": [
    "#### * B.2,3 / C.1~5 / D.1 은 단층퍼셉트론에서 정의한 것을 그대로 활용 "
   ]
  },
  {
   "cell_type": "markdown",
   "metadata": {},
   "source": [
    "## D.2 / E.2 후처리 과정에 대한 순전파와 역전파 함수의 재정의"
   ]
  },
  {
   "cell_type": "code",
   "execution_count": 17,
   "metadata": {},
   "outputs": [],
   "source": [
    "def forward_postproc(output, y): \n",
    "    entropy = sigmoid_cross_entropy_with_logits(y, output)\n",
    "    loss = np.mean(entropy) \n",
    "    return loss, [y,output,entropy] \n",
    "\n",
    "def backprop_postproc(G_loss, aux): \n",
    "    y, output, entropy = aux \n",
    "    \n",
    "    g_loss_entropy = 1.0 / np.prod(entropy.shape)\n",
    "    g_entropy_output = sigmoid_cross_entropy_with_logits_derv(y,output)\n",
    "    \n",
    "    G_entropy = g_loss_entropy * G_loss\n",
    "    G_output = g_entropy_output * G_entropy\n",
    "\n",
    "    return G_output"
   ]
  },
  {
   "cell_type": "markdown",
   "metadata": {},
   "source": [
    "## D.4 정확도 계산 정의 함수"
   ]
  },
  {
   "cell_type": "code",
   "execution_count": 18,
   "metadata": {},
   "outputs": [],
   "source": [
    "def eval_accuracy(output,y):\n",
    "    estimate = np.greater(output, 0) \n",
    "    answer = np.greater(y,0.5)\n",
    "    correct = np.equal(estimate, answer)\n",
    "  \n",
    "    return np.mean(correct)  "
   ]
  },
  {
   "cell_type": "markdown",
   "metadata": {},
   "source": [
    "## E. ~ 시그모이드 관련 함수 정의"
   ]
  },
  {
   "cell_type": "code",
   "execution_count": 19,
   "metadata": {},
   "outputs": [],
   "source": [
    "def relu(x):\n",
    "    return np.maximum(x,0) \n",
    "\n",
    "def sigmoid(x): \n",
    "    return np.exp(-relu(-x)) / (1.0 + np.exp(-np.abs(x)))\n",
    "\n",
    "def sigmoid_derv(x,y):\n",
    "    return y * (1-y)\n",
    "\n",
    "def sigmoid_cross_entropy_with_logits(z,x): \n",
    "    return relu(x) - x * z + np.log( 1 + np.exp(-np.abs(x)))\n",
    "\n",
    "def sigmoid_cross_entropy_with_logits_derv(z,x):\n",
    "    return -z + sigmoid(x)"
   ]
  },
  {
   "cell_type": "markdown",
   "metadata": {},
   "source": [
    "## 천체의 펄서여부 판정신경망 학습시키기"
   ]
  },
  {
   "cell_type": "code",
   "execution_count": 20,
   "metadata": {},
   "outputs": [
    {
     "name": "stdout",
     "output_type": "stream",
     "text": [
      "Epoch 1: loss=0.154, accuracy=0.959/0.972\n",
      "Epoch 2: loss=0.131, accuracy=0.966/0.972\n",
      "Epoch 3: loss=0.136, accuracy=0.967/0.970\n",
      "Epoch 4: loss=0.133, accuracy=0.968/0.970\n",
      "Epoch 5: loss=0.121, accuracy=0.968/0.969\n",
      "Epoch 6: loss=0.145, accuracy=0.968/0.974\n",
      "Epoch 7: loss=0.122, accuracy=0.970/0.975\n",
      "Epoch 8: loss=0.127, accuracy=0.970/0.976\n",
      "Epoch 9: loss=0.125, accuracy=0.970/0.976\n",
      "Epoch 10: loss=0.134, accuracy=0.968/0.976\n",
      "\n",
      "Final Test: final accuracy = 0.976\n"
     ]
    }
   ],
   "source": [
    "pulsar_exec()"
   ]
  },
  {
   "cell_type": "markdown",
   "metadata": {},
   "source": [
    "## 펄서 or 일반 별 확인 "
   ]
  },
  {
   "cell_type": "code",
   "execution_count": 21,
   "metadata": {},
   "outputs": [
    {
     "name": "stdout",
     "output_type": "stream",
     "text": [
      "(array([-6.51508291]), array([130. ,  52. ,   0.4,   0.6,   3.1,  20. ,   8. ,  72. ]))\n",
      "[False]\n"
     ]
    }
   ],
   "source": [
    "x = np.array([130,52,0.4,0.6,3.1,20,8,72])\n",
    "output = forward_neuralnet(x)\n",
    "print(output)\n",
    "x_sig= sigmoid(output[0])\n",
    "new_data = np.greater(x_sig,0.5)\n",
    "print(new_data)"
   ]
  },
  {
   "cell_type": "markdown",
   "metadata": {},
   "source": [
    "### ----학습데이터 증폭 및 정확도계산 정의 함수 재정의----"
   ]
  },
  {
   "cell_type": "markdown",
   "metadata": {},
   "source": [
    "## A.1 메인 실행함수 재정의"
   ]
  },
  {
   "cell_type": "code",
   "execution_count": 22,
   "metadata": {},
   "outputs": [],
   "source": [
    "def pulsar_exec(epoch_count=10,mb_size=10, report=1, adjust_ratio = False):\n",
    "    load_pulsar_dataset(adjust_ratio)\n",
    "    init_model()\n",
    "    train_and_test(epoch_count, mb_size, report)"
   ]
  },
  {
   "cell_type": "markdown",
   "metadata": {},
   "source": [
    "## B.1 데이터 적재 함수 재정의 "
   ]
  },
  {
   "cell_type": "code",
   "execution_count": 23,
   "metadata": {},
   "outputs": [],
   "source": [
    "def load_pulsar_dataset(adjust_ratio): \n",
    "    pulsars, stars = [], []  \n",
    "    with open('pulsar_stars.csv') as csvfile: \n",
    "        csvreader = csv.reader(csvfile)\n",
    "        next(csvreader, None)\n",
    "        rows = [] \n",
    "        for row in csvreader:\n",
    "            if row[8] == '1' : pulsars.append(row) \n",
    "            else : stars.append(row) \n",
    "    global data, input_cnt, output_cnt  \n",
    "    input_cnt, output_cnt, = 8,1\n",
    "    \n",
    "    star_cnt, pulsar_cnt = len(stars), len(pulsars) \n",
    "    \n",
    "    if adjust_ratio:\n",
    "        data = np.zeros([2*star_cnt , 9]) \n",
    "        data[0:star_cnt, :] = np.asarray(stars, dtype='float32')\n",
    "\n",
    "        for n in range(star_cnt):\n",
    "            data[star_cnt+n]=np.asarray(pulsars[n % pulsar_cnt], dtype='float32')\n",
    "    else: \n",
    "        data = np.zeros([star_cnt+pulsar_cnt,9]) \n",
    "        data[0:star_cnt, :] = np.asarray(stars, dtype=\"float32\")\n",
    "        data[star_cnt:, :] = np.asarray(pulsars, dtype=\"float32\")\n",
    "    "
   ]
  },
  {
   "cell_type": "markdown",
   "metadata": {},
   "source": [
    "## D.4 정확도 계산 정의 함수 재정의 "
   ]
  },
  {
   "cell_type": "code",
   "execution_count": 24,
   "metadata": {},
   "outputs": [],
   "source": [
    "def eval_accuracy(output, y):\n",
    "    est_yes = np.greater(output, 0) \n",
    "    ans_yes = np.greater(y, 0.5) \n",
    "   \n",
    "    est_no = np.logical_not(est_yes)\n",
    "    ans_no = np.logical_not(ans_yes) \n",
    "     \n",
    "    tp = np.sum(np.logical_and(est_yes, ans_yes))\n",
    "    fp = np.sum(np.logical_and(est_no, ans_yes))  \n",
    "    fn = np.sum(np.logical_and(est_yes,ans_no))\n",
    "    tn = np.sum(np.logical_and(est_no,ans_no))\n",
    " \n",
    "    accuracy = safe_div(tp+tn,tp+tn+fn+fp)\n",
    "   \n",
    "    precision = safe_div(tp, tp + fp)\n",
    "   \n",
    "    recall = safe_div(tp, tp + fn)\n",
    "\n",
    "    f1 = 2 * safe_div(recall * precision, recall + precision)\n",
    "   \n",
    "    return [accuracy, precision, recall, f1]\n",
    "\n",
    "\n",
    "def safe_div(p,q):\n",
    "    p,q = float(p),float(q)\n",
    "    if np.abs(q) < 1.0e-20: return np.sign(p)\n",
    "    \n",
    "    return p / q"
   ]
  },
  {
   "cell_type": "markdown",
   "metadata": {},
   "source": [
    "## B.3 출력문 수정을 위한 실행함수 재정의"
   ]
  },
  {
   "cell_type": "code",
   "execution_count": 25,
   "metadata": {},
   "outputs": [],
   "source": [
    "def train_and_test(epoch_count, mb_size, report):\n",
    "    step_count = arrange_data(mb_size)\n",
    "    test_x, test_y = get_test_data()\n",
    "    \n",
    "    for epoch in range(epoch_count): \n",
    "        losses = []\n",
    "        \n",
    "        for n in range(step_count):\n",
    "            train_x, train_y = get_train_data(mb_size, n)\n",
    "            loss,_ = run_train(train_x,train_y)\n",
    "            losses.append(loss)\n",
    "            \n",
    "        if report > 0 and (epoch+1) % report == 0:\n",
    "            acc = run_test(test_x,test_y) \n",
    "            acc_str = ','.join(['%5.3f']*4) % tuple(acc)\n",
    "           \n",
    "            print('Epoch{}:loss = {:5.3f},result={}'.format(epoch+1,np.mean(losses),acc_str))\n",
    "            \n",
    "  \n",
    "    acc = run_test(test_x, test_y)\n",
    "    acc_str = ','.join(['%5.3f']*4) % tuple(acc)\n",
    "    print('\\n Final Test: final result = {}'.format(acc_str))\n",
    "    \n",
    "    "
   ]
  },
  {
   "cell_type": "code",
   "execution_count": null,
   "metadata": {},
   "outputs": [],
   "source": [
    "#acc_str = ','.join(['%5.3f']*4) % tuple([1,2,3,4])"
   ]
  },
  {
   "cell_type": "markdown",
   "metadata": {},
   "source": [
    "## 실행하기 (adjust_ratio = False)"
   ]
  },
  {
   "cell_type": "code",
   "execution_count": 26,
   "metadata": {},
   "outputs": [
    {
     "name": "stdout",
     "output_type": "stream",
     "text": [
      "Epoch1:loss = 0.136,result=0.972,0.794,0.879,0.835\n",
      "Epoch2:loss = 0.124,result=0.973,0.732,0.959,0.830\n",
      "Epoch3:loss = 0.127,result=0.966,0.629,0.990,0.770\n",
      "Epoch4:loss = 0.129,result=0.973,0.717,0.970,0.824\n",
      "Epoch5:loss = 0.126,result=0.961,0.841,0.752,0.794\n",
      "Epoch6:loss = 0.134,result=0.973,0.769,0.911,0.834\n",
      "Epoch7:loss = 0.130,result=0.975,0.757,0.949,0.842\n",
      "Epoch8:loss = 0.132,result=0.972,0.723,0.955,0.823\n",
      "Epoch9:loss = 0.120,result=0.975,0.754,0.953,0.842\n",
      "Epoch10:loss = 0.123,result=0.971,0.692,0.982,0.812\n",
      "\n",
      " Final Test: final result = 0.971,0.692,0.982,0.812\n"
     ]
    }
   ],
   "source": [
    "pulsar_exec(adjust_ratio = False)"
   ]
  },
  {
   "cell_type": "markdown",
   "metadata": {},
   "source": [
    "## 실행하기 (adjust_ratio = True)"
   ]
  },
  {
   "cell_type": "code",
   "execution_count": 27,
   "metadata": {},
   "outputs": [
    {
     "name": "stdout",
     "output_type": "stream",
     "text": [
      "Epoch1:loss = 0.402,result=0.907,0.926,0.892,0.909\n",
      "Epoch2:loss = 0.371,result=0.916,0.892,0.937,0.914\n",
      "Epoch3:loss = 0.351,result=0.915,0.848,0.980,0.909\n",
      "Epoch4:loss = 0.374,result=0.917,0.854,0.976,0.911\n",
      "Epoch5:loss = 0.374,result=0.900,0.933,0.875,0.903\n",
      "Epoch6:loss = 0.354,result=0.922,0.870,0.970,0.918\n",
      "Epoch7:loss = 0.371,result=0.919,0.907,0.929,0.918\n",
      "Epoch8:loss = 0.344,result=0.925,0.897,0.950,0.923\n",
      "Epoch9:loss = 0.363,result=0.910,0.833,0.984,0.902\n",
      "Epoch10:loss = 0.359,result=0.925,0.888,0.959,0.922\n",
      "\n",
      " Final Test: final result = 0.925,0.888,0.959,0.922\n"
     ]
    }
   ],
   "source": [
    "pulsar_exec(adjust_ratio=True)"
   ]
  }
 ],
 "metadata": {
  "kernelspec": {
   "display_name": "Python 3",
   "language": "python",
   "name": "python3"
  },
  "language_info": {
   "codemirror_mode": {
    "name": "ipython",
    "version": 3
   },
   "file_extension": ".py",
   "mimetype": "text/x-python",
   "name": "python",
   "nbconvert_exporter": "python",
   "pygments_lexer": "ipython3",
   "version": "3.6.7"
  }
 },
 "nbformat": 4,
 "nbformat_minor": 2
}
