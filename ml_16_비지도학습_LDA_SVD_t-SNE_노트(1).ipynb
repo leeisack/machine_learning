{
 "cells": [
  {
   "cell_type": "markdown",
   "metadata": {
    "colab_type": "text",
    "id": "9RojYcohonLo",
    "slideshow": {
     "slide_type": "slide"
    }
   },
   "source": [
    "## 선형판별분석 (LDA, Linear Discriminant Analysis)\n",
    "\n",
    "- PCA와 유사하게 입력 데이터 세트를 저차원 공간으로 투영(project)해 차원을 축소하는 기법\n",
    "\n",
    "- PCA와 다르게 LDA는 지도학습의 분류(Classification)에서 사용하기 쉽도록 개별 클래스를 분별할 수 있는 기준을 최대한 유지하면서 차원을 축소\n",
    "\n",
    "- LDA는 특정 공간상에서 클래스 분리를 최대화하는 축을 찾기 위해 클래스 간 분산(between-class scatter)과 클래스 내부 분산(within-class scatter)의 비율을 최대화하는 방식으로 차원을 축소\n",
    "\n",
    "<center>\n",
    " <img src=\"https://blog.kakaocdn.net/dn/KOqHC/btqGebaAiIc/CKAMR23KhIcmh6UK198bd1/img.png\" alt=\"클래스 간 분산과 내부 분산\" width=\"40%\" />\n",
    "\n",
    "</center>\n",
    "\n",
    "- LDA는 투영을 통해 가능한 한 클래스를 멀리 떨어지게 하므로 SVM 같은 다른 분류 알고리즘을 적용하기 전에 차원을 축소시키는 데 사용"
   ]
  },
  {
   "cell_type": "markdown",
   "metadata": {
    "colab_type": "text",
    "id": "RiJl64P-OHvo",
    "slideshow": {
     "slide_type": "slide"
    }
   },
   "source": [
    "#### LDA 실습 01\n",
    "\n",
    "붓꽃 데이터 세트에 LDA 적용"
   ]
  },
  {
   "cell_type": "code",
   "execution_count": 1,
   "metadata": {
    "colab": {},
    "colab_type": "code",
    "executionInfo": {
     "elapsed": 907,
     "status": "ok",
     "timestamp": 1598455671057,
     "user": {
      "displayName": "oz To",
      "photoUrl": "",
      "userId": "12937505880450462933"
     },
     "user_tz": -540
    },
    "id": "I0pJt0J6OSgA",
    "slideshow": {
     "slide_type": "slide"
    }
   },
   "outputs": [],
   "source": [
    "# 특성의 분산이 1이 되도록 데이터의 스케일을 조정\n",
    "from sklearn.preprocessing import StandardScaler\n",
    "from sklearn.datasets import load_iris\n",
    "\n",
    "# 데이터로드\n",
    "iris = load_iris()\n",
    "\n",
    "# 스케일 조정\n"
   ]
  },
  {
   "cell_type": "markdown",
   "metadata": {
    "colab_type": "text",
    "id": "KoiF0z8oPioy",
    "slideshow": {
     "slide_type": "slide"
    }
   },
   "source": [
    "- LDA는 PCA와 다르게 비지도학습이 아닌 지도학습\n",
    "- 클래스의 Target 값이 변환 시에 필요"
   ]
  },
  {
   "cell_type": "code",
   "execution_count": 2,
   "metadata": {
    "colab": {
     "base_uri": "https://localhost:8080/",
     "height": 35
    },
    "colab_type": "code",
    "executionInfo": {
     "elapsed": 900,
     "status": "ok",
     "timestamp": 1598455671059,
     "user": {
      "displayName": "oz To",
      "photoUrl": "",
      "userId": "12937505880450462933"
     },
     "user_tz": -540
    },
    "id": "CyJIr7QYOZSP",
    "outputId": "1ea78178-5e68-48d2-a427-69fc50d57b3f",
    "slideshow": {
     "slide_type": "slide"
    }
   },
   "outputs": [],
   "source": [
    "# LDA 모델 학습\n",
    "from sklearn.discriminant_analysis import LinearDiscriminantAnalysis\n",
    "\n"
   ]
  },
  {
   "cell_type": "code",
   "execution_count": 3,
   "metadata": {
    "colab": {
     "base_uri": "https://localhost:8080/",
     "height": 284
    },
    "colab_type": "code",
    "executionInfo": {
     "elapsed": 1319,
     "status": "ok",
     "timestamp": 1598455671486,
     "user": {
      "displayName": "oz To",
      "photoUrl": "",
      "userId": "12937505880450462933"
     },
     "user_tz": -540
    },
    "id": "EshTd9_bObUn",
    "outputId": "0ab4defc-e449-4f90-d277-3ede494f265e",
    "slideshow": {
     "slide_type": "slide"
    }
   },
   "outputs": [],
   "source": [
    "# LDA 변환된 데이터를 시각화\n",
    "import pandas as pd\n",
    "import matplotlib.pyplot as plt\n",
    "%matplotlib inline\n",
    "\n",
    "# DataFrame 변경\n",
    "\n",
    "\n",
    "#setosa는 세모, versicolor는 네모, virginica는 동그라미로 표현\n",
    "markers=['^', 's', 'o']\n",
    "\n",
    "# setosa의 target 값은 0, versicolor는 1, virginica는 2.\n",
    "# 각 target 별 산점도 \n"
   ]
  },
  {
   "cell_type": "markdown",
   "metadata": {
    "colab_type": "text",
    "id": "N2PPkwAbopK4",
    "slideshow": {
     "slide_type": "slide"
    }
   },
   "source": [
    "## 특이값분해 (SVD, Singular Value Decomposition)\n",
    "\n",
    "- PCA의 경우 정방행렬(행과 열의 크기가 같은 행렬)만을 고유벡터로 분해할 수 있으나 SVD는 정방행렬뿐만 아니라 행과 열의 크기가 다른 행렬에 대해서도 적용 가능\n",
    "\n",
    "- SVD는 m x n 크기의 행렬 A를 분해\n",
    "\n",
    " <center>\n",
    " <img src=\"https://www.pikpng.com/pngl/b/563-5634372_where-a-is-the-input-data-matrix-u.png\" alt=\"특이값분해\" width=\"60%\" />\n",
    "\n",
    " 출처: https://www.pikpng.com/transpng/hxRRmbR/\n",
    "\n",
    " </center>\n",
    "\n",
    " - 행렬 U와 V에 속한 벡터는 특이 벡터(Singular Vector)이며, 모든 특이 벡터는 서로 직교하는 성질을 갖음\n",
    " - ∑는 직사각 대각 행렬이며, 행렬의 대각에 위치한 값만 0이 아니고 나머지 위치의 값은 모두 0\n",
    " - m < n인 경우 첫번째와 같이 분해되며, m > n인 경우 두번째와 같이 분해\n",
    " - ∑의 0이 아닌 대각 원소값을 특이값(Singular Value)라고 함\n",
    " "
   ]
  },
  {
   "cell_type": "markdown",
   "metadata": {
    "colab_type": "text",
    "id": "i5z5GM4cXSLb",
    "slideshow": {
     "slide_type": "slide"
    }
   },
   "source": [
    "- Truncated SVD는 ∑의 대각원소 중에 상위 몇 개만 추출해서 여기에 대응하는 U와 V의 원소도 함께 제거해 더욱 차원을 줄인 형태로 분해하는 것\n",
    " - 데이터 정보가 압축되어 분해되므로 원본 행렬을 정확하게 복원할 수는 없으나 상당 수준의 근사값으로 복원이 가능"
   ]
  },
  {
   "cell_type": "markdown",
   "metadata": {
    "colab_type": "text",
    "id": "cku2LUPLWWL5",
    "slideshow": {
     "slide_type": "slide"
    }
   },
   "source": [
    "#### SVD 실습 01\n",
    "\n",
    "붓꽃 데이터 세트에 TruncatedSVD 적용"
   ]
  },
  {
   "cell_type": "code",
   "execution_count": 4,
   "metadata": {
    "colab": {
     "base_uri": "https://localhost:8080/",
     "height": 297
    },
    "colab_type": "code",
    "executionInfo": {
     "elapsed": 1676,
     "status": "ok",
     "timestamp": 1598455671851,
     "user": {
      "displayName": "oz To",
      "photoUrl": "",
      "userId": "12937505880450462933"
     },
     "user_tz": -540
    },
    "id": "AwNc0_XuWZr3",
    "outputId": "8c4fc610-8586-4459-9afe-3f9fb32aabbe",
    "slideshow": {
     "slide_type": "slide"
    }
   },
   "outputs": [],
   "source": [
    "from sklearn.decomposition import TruncatedSVD, PCA\n",
    "from sklearn.datasets import load_iris\n",
    "import matplotlib.pyplot as plt\n",
    "%matplotlib inline\n",
    "\n",
    "iris = load_iris()\n",
    "iris_ftrs = iris.data\n",
    "\n",
    "# 2개의 주요 component로 TruncatedSVD 변환\n",
    "\n",
    "\n",
    "# TruncatedSVD 변환 된 데이터 산점도. 품종은 색깔로 구분\n"
   ]
  },
  {
   "cell_type": "markdown",
   "metadata": {
    "colab_type": "text",
    "id": "Nf4EwFtgZePx",
    "slideshow": {
     "slide_type": "slide"
    }
   },
   "source": [
    "- PCA와 유사하게 변환 후 품종별로 클러스터링이 가능할 정도의 고유성을 가지고 있음"
   ]
  },
  {
   "cell_type": "code",
   "execution_count": 5,
   "metadata": {
    "colab": {
     "base_uri": "https://localhost:8080/",
     "height": 299
    },
    "colab_type": "code",
    "executionInfo": {
     "elapsed": 2172,
     "status": "ok",
     "timestamp": 1598455672353,
     "user": {
      "displayName": "oz To",
      "photoUrl": "",
      "userId": "12937505880450462933"
     },
     "user_tz": -540
    },
    "id": "Rr8FI_b6XgY4",
    "outputId": "f9059097-d823-4758-b255-e20c8315059f",
    "slideshow": {
     "slide_type": "slide"
    }
   },
   "outputs": [],
   "source": [
    "from sklearn.preprocessing import StandardScaler\n",
    "\n",
    "# iris 데이터를 StandardScaler로 변환\n",
    "\n",
    "\n",
    "# 스케일링된 데이터를 기반으로 TruncatedSVD 변환 수행 \n",
    "\n",
    "\n",
    "# 스케일링된 데이터를 기반으로 PCA 변환 수행 \n",
    "\n",
    "\n",
    "# TruncatedSVD 변환 데이터를 왼쪽에, PCA변환 데이터를 오른쪽에 표현 \n"
   ]
  },
  {
   "cell_type": "markdown",
   "metadata": {
    "colab_type": "text",
    "id": "r1LMUgwmZvAk",
    "slideshow": {
     "slide_type": "slide"
    }
   },
   "source": [
    "- 스케일링된 데이터를 기반으로 변환하면 두 개가 거의 동일함"
   ]
  },
  {
   "cell_type": "code",
   "execution_count": 6,
   "metadata": {
    "colab": {
     "base_uri": "https://localhost:8080/",
     "height": 53
    },
    "colab_type": "code",
    "executionInfo": {
     "elapsed": 766,
     "status": "ok",
     "timestamp": 1598456058895,
     "user": {
      "displayName": "oz To",
      "photoUrl": "",
      "userId": "12937505880450462933"
     },
     "user_tz": -540
    },
    "id": "hGhtbt4vXkIx",
    "outputId": "d9299366-f1f6-40f2-a05b-c365e709e6cc",
    "slideshow": {
     "slide_type": "slide"
    }
   },
   "outputs": [],
   "source": [
    "# 평균값 비교\n"
   ]
  },
  {
   "cell_type": "markdown",
   "metadata": {
    "colab_type": "text",
    "id": "uw_uXzLnaBgO",
    "slideshow": {
     "slide_type": "slide"
    }
   },
   "source": [
    "- 모두 0에 가까운 값으로 2개의 변환이 서로 동일\n",
    "- 스케일링으로 데이터 중심이 동일해지면 사이킷런의 SVD와 PCA는 동일한 변환을 수행\n",
    "\n",
    "- PCA는 밀집 행렬(Dense Matrix)에 대한 변환만 가능하며 SVD는 희소 행렬(Spares Matrix)에 대한 변환도 가능\n",
    "\n",
    "- SVD는 PCA와 유사하게 컴퓨터 비전 영역에서 이미지 압축을 통한 패턴 인식과 신호 처리 분야에 사용됨"
   ]
  },
  {
   "cell_type": "markdown",
   "metadata": {
    "colab_type": "text",
    "id": "FsyxRTlJcjF4",
    "slideshow": {
     "slide_type": "slide"
    }
   },
   "source": [
    "## t-SNE(t-Distributed Stochastic Neighbor Embedding)\n",
    "\n",
    "- 데이터 포인트 사이의 거리를 가장 잘 보존하는 2차원 표현을 찾는 알고리즘\n",
    "\n",
    "- t-SNE는 각 데이터를 2차원에 무작위로 표현한 후 임의로 하나의 데이터를 선정\n",
    "\n",
    "- t-분포 그래프에서 임의로 선정한 데이터를 기준점으로 하여 다른 데이터와의 거리에 있는 t-분포 값을 선택\n",
    "\n",
    "- 이 t-분포 값을 친밀도라 하고, 이 친밀도가 가까운 값끼리 묶음\n"
   ]
  },
  {
   "cell_type": "markdown",
   "metadata": {
    "colab_type": "text",
    "id": "ad5QJJCzcz_n",
    "slideshow": {
     "slide_type": "slide"
    }
   },
   "source": [
    "- t-SNE 알고리즘은 원본 특성 공간에서 가까운 포인트는 더 가깝게 멀리있는 포인트는 더 멀어지게 만듬\n",
    "- 멀리 떨어진 포인트와의 거리를 보존하기 보다는 가까이 있는 포인트에 더 많은 비중을 둠 \n",
    "- 그러나 PCA처럼 군집이 중복되지 않는다는 장점은 있지만 매번 계산 할 때마다 축의 위치가 바뀌어 다른 모양이 나타남\n",
    "- 탐색적 분석에서는 유용하지만 지도학습용으로는 거의 사용하지 않음\n",
    "\n"
   ]
  },
  {
   "cell_type": "markdown",
   "metadata": {
    "colab_type": "text",
    "id": "gfe02-VzHQm0",
    "slideshow": {
     "slide_type": "slide"
    }
   },
   "source": [
    "#### 매니폴드 학습 (Manifold Learning)\n",
    "\n",
    "- 매니폴드는 다양체라고도 하며 국소적으로 유클리드 공간과 닮은 위상 공간\n",
    "- 많은 차원 축소 알고리즘이 훈련 샘플이 놓여 있는 매니폴드를 모델링하는 식으로 작동 → 매니폴드 학습\n",
    "\n",
    "<center>\n",
    " <img src=\"https://img1.daumcdn.net/thumb/R1280x0/?scode=mtistory2&fname=http%3A%2F%2Fcfile2.uf.tistory.com%2Fimage%2F99231F415B8A48B41805B6\" alt=\"스위스롤\" width=\"60%\" />\n",
    "\n",
    "스위스 롤 데이터셋 투영과 펼쳐놓음 비교\n",
    "\n",
    "</center>\n",
    "\n",
    "- 매니폴드 학습은 매니폴드 가정(manifold assumption) 또는 매니폴드 가설(manifold hypothesis)에 의해, 고차원인 실제 데이터셋이 더 낮은 저차원 매니폴드에 가깝게 놓여 있다고 가정\n",
    "\n",
    "- 매니폴드 가정은 종종 다른 가정과 함께 쓰이기도 함\n",
    "- 분류나 회귀같은 작업을 하기전에 학습 데이터셋을 저차원의 매니폴드 공간으로 표현하면 더 간단하게 문제를 해결할 수 있음\n",
    "- 그러나 데이터셋이 어떠한 모양을 하고 있느냐에 따라 학습 속도와 모델의 성능이 달라짐"
   ]
  },
  {
   "cell_type": "markdown",
   "metadata": {
    "colab_type": "text",
    "id": "4c9XPlPHdnLP",
    "slideshow": {
     "slide_type": "slide"
    }
   },
   "source": [
    "#### t-SNE 실습 01\n",
    "\n",
    "손글씨 숫자 데이터셋에 t-SNE 적용"
   ]
  },
  {
   "cell_type": "code",
   "execution_count": 7,
   "metadata": {
    "colab": {},
    "colab_type": "code",
    "executionInfo": {
     "elapsed": 848,
     "status": "ok",
     "timestamp": 1598457347777,
     "user": {
      "displayName": "oz To",
      "photoUrl": "",
      "userId": "12937505880450462933"
     },
     "user_tz": -540
    },
    "id": "kSvz_K_Ne3Q-",
    "slideshow": {
     "slide_type": "slide"
    }
   },
   "outputs": [],
   "source": [
    "# 경고메시지 무시\n",
    "import warnings\n",
    "warnings.filterwarnings(\"ignore\")"
   ]
  },
  {
   "cell_type": "code",
   "execution_count": 8,
   "metadata": {
    "colab": {
     "base_uri": "https://localhost:8080/",
     "height": 279
    },
    "colab_type": "code",
    "executionInfo": {
     "elapsed": 1368,
     "status": "ok",
     "timestamp": 1598457251737,
     "user": {
      "displayName": "oz To",
      "photoUrl": "",
      "userId": "12937505880450462933"
     },
     "user_tz": -540
    },
    "id": "Jga5bmkZedtH",
    "outputId": "4d100420-09f7-40b3-91be-914ef6fe49a9",
    "slideshow": {
     "slide_type": "slide"
    }
   },
   "outputs": [
    {
     "data": {
      "image/png": "[encoded data removed]",
      "text/plain": [
       "<Figure size 720x360 with 10 Axes>"
      ]
     },
     "metadata": {},
     "output_type": "display_data"
    }
   ],
   "source": [
    "from sklearn.datasets import load_digits\n",
    "digits = load_digits()\n",
    "\n",
    "fig, axes = plt.subplots(2, 5, figsize=(10, 5),\n",
    "                         subplot_kw={'xticks':(), 'yticks': ()})\n",
    "for ax, img in zip(axes.ravel(), digits.images):\n",
    "    ax.imshow(img)"
   ]
  },
  {
   "cell_type": "code",
   "execution_count": 9,
   "metadata": {
    "colab": {
     "base_uri": "https://localhost:8080/",
     "height": 631
    },
    "colab_type": "code",
    "executionInfo": {
     "elapsed": 6237,
     "status": "ok",
     "timestamp": 1598457357713,
     "user": {
      "displayName": "oz To",
      "photoUrl": "",
      "userId": "12937505880450462933"
     },
     "user_tz": -540
    },
    "id": "49YC80ioeflO",
    "outputId": "427370fd-71a7-4ba0-d665-4d9abaedfaa0",
    "slideshow": {
     "slide_type": "slide"
    }
   },
   "outputs": [],
   "source": [
    "# PCA를 사용해 데이터를 2차원으로 축소하여 시각화\n",
    "# PCA 모델을 생성\n",
    "\n",
    "# 처음 두 개의 주성분으로 숫자 데이터를 변환\n",
    "\n",
    "# 숫자 텍스트를 이용한 산점도\n"
   ]
  },
  {
   "cell_type": "markdown",
   "metadata": {
    "colab_type": "text",
    "id": "DszKZZDMfT-H",
    "slideshow": {
     "slide_type": "slide"
    }
   },
   "source": [
    "- 0, 6, 4는 두 개의 주성분만으로 비교적 잘 분리\n",
    "- 다른 숫자들은 대부분 많은 부분이 겹침"
   ]
  },
  {
   "cell_type": "code",
   "execution_count": 10,
   "metadata": {
    "colab": {},
    "colab_type": "code",
    "executionInfo": {
     "elapsed": 13454,
     "status": "ok",
     "timestamp": 1598457287982,
     "user": {
      "displayName": "oz To",
      "photoUrl": "",
      "userId": "12937505880450462933"
     },
     "user_tz": -540
    },
    "id": "vxAMKwJselo2",
    "slideshow": {
     "slide_type": "slide"
    }
   },
   "outputs": [],
   "source": [
    "# t-SNE를 적용해 결과를 비교\n",
    "from sklearn.manifold import TSNE\n",
    "\n",
    "# TSNE에는 transform 메소드가 없으므로 대신 fit_transform을 사용\n"
   ]
  },
  {
   "cell_type": "code",
   "execution_count": 11,
   "metadata": {
    "colab": {
     "base_uri": "https://localhost:8080/",
     "height": 626
    },
    "colab_type": "code",
    "executionInfo": {
     "elapsed": 6380,
     "status": "ok",
     "timestamp": 1598457367462,
     "user": {
      "displayName": "oz To",
      "photoUrl": "",
      "userId": "12937505880450462933"
     },
     "user_tz": -540
    },
    "id": "4OcDZ9CKenmu",
    "outputId": "39fc70af-031e-4239-dcbc-64feadc78296",
    "slideshow": {
     "slide_type": "slide"
    }
   },
   "outputs": [],
   "source": [
    "# 처음 두 개의 주성분으로 숫자 데이터를 변환\n",
    "\n",
    "\n",
    "# 숫자 텍스트를 이용한 산점도\n"
   ]
  },
  {
   "cell_type": "markdown",
   "metadata": {
    "colab_type": "text",
    "id": "gXJDzeNsf1nh",
    "slideshow": {
     "slide_type": "slide"
    }
   },
   "source": [
    "- 모든 클래스가 확실히 구분"
   ]
  }
 ],
 "metadata": {
  "celltoolbar": "Slideshow",
  "colab": {
   "authorship_tag": "ABX9TyONCaKcniaGEPcNew8SoLem",
   "collapsed_sections": [],
   "name": "ml_16_비지도학습_LDA_SVD.ipynb",
   "provenance": []
  },
  "kernelspec": {
   "display_name": "Python 3",
   "language": "python",
   "name": "python3"
  },
  "language_info": {
   "codemirror_mode": {
    "name": "ipython",
    "version": 3
   },
   "file_extension": ".py",
   "mimetype": "text/x-python",
   "name": "python",
   "nbconvert_exporter": "python",
   "pygments_lexer": "ipython3",
   "version": "3.7.6"
  }
 },
 "nbformat": 4,
 "nbformat_minor": 1
}
