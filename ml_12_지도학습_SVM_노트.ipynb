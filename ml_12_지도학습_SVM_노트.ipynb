{
 "cells": [
  {
   "cell_type": "markdown",
   "metadata": {
    "colab_type": "text",
    "id": "kMrKj9JVfL1S"
   },
   "source": [
    "# SVM (Support Vector Machines)\n",
    "\n",
    "- 입력 데이터에서 단순한 초평면(hyperplane)으로 정의되지 않는 더 복잡한 모델을 만들 수 있도록 확장한 것 (복잡한 분류문제)\n",
    "\n",
    "- 서포트 벡터 머신을 분류와 회귀에 모두 사용할 수 있음 <br>\n",
    "(선형, 비선형 분류, 회귀, 이상치 탐색에도 사용되는 다목적 머신러닝 모델)"
   ]
  },
  {
   "cell_type": "code",
   "execution_count": 1,
   "metadata": {
    "colab": {
     "base_uri": "https://localhost:8080/",
     "height": 463
    },
    "colab_type": "code",
    "executionInfo": {
     "elapsed": 8018,
     "status": "ok",
     "timestamp": 1597155939670,
     "user": {
      "displayName": "oz To",
      "photoUrl": "",
      "userId": "12937505880450462933"
     },
     "user_tz": -540
    },
    "id": "8PUEeDHfgCvD",
    "outputId": "02ef3244-890f-4b92-c790-7b96d55bf90d"
   },
   "outputs": [],
   "source": [
    "# !pip install mglearn"
   ]
  },
  {
   "cell_type": "code",
   "execution_count": 2,
   "metadata": {
    "colab": {},
    "colab_type": "code",
    "executionInfo": {
     "elapsed": 1049,
     "status": "ok",
     "timestamp": 1597155981216,
     "user": {
      "displayName": "oz To",
      "photoUrl": "",
      "userId": "12937505880450462933"
     },
     "user_tz": -540
    },
    "id": "nhaCuD7-6iks"
   },
   "outputs": [],
   "source": [
    "from warnings import filterwarnings\n",
    "filterwarnings('ignore')"
   ]
  },
  {
   "cell_type": "code",
   "execution_count": 3,
   "metadata": {
    "colab": {
     "base_uri": "https://localhost:8080/",
     "height": 296
    },
    "colab_type": "code",
    "executionInfo": {
     "elapsed": 895,
     "status": "ok",
     "timestamp": 1597156884345,
     "user": {
      "displayName": "oz To",
      "photoUrl": "",
      "userId": "12937505880450462933"
     },
     "user_tz": -540
    },
    "id": "xkOKKG5Ae_PL",
    "outputId": "aa374f18-43b0-4d7f-bbfc-884febd98d79"
   },
   "outputs": [],
   "source": [
    "import mglearn\n",
    "import matplotlib.pyplot as plt\n",
    "from mglearn.datasets import make_blobs\n",
    "\n",
    "# 선형적으로 구분되지 않는 클래스를 가진 이진 분류 세트\n",
    "X, y = make_blobs(centers=4, random_state=8)\n",
    "\n",
    "# 이진 분류 세트 시각화"
   ]
  },
  {
   "cell_type": "code",
   "execution_count": 4,
   "metadata": {
    "colab": {
     "base_uri": "https://localhost:8080/",
     "height": 280
    },
    "colab_type": "code",
    "executionInfo": {
     "elapsed": 834,
     "status": "ok",
     "timestamp": 1597156888230,
     "user": {
      "displayName": "oz To",
      "photoUrl": "",
      "userId": "12937505880450462933"
     },
     "user_tz": -540
    },
    "id": "RZeJFMMQgm5E",
    "outputId": "29edbee4-a10e-4ad3-b029-7b66aa5e3222"
   },
   "outputs": [],
   "source": [
    "# 선형 분류\n",
    "from sklearn.svm import LinearSVC\n"
   ]
  },
  {
   "cell_type": "markdown",
   "metadata": {
    "colab_type": "text",
    "id": "20GoqzAegyi5"
   },
   "source": [
    "- 분류를 위한 선형 모델은 직선으로만 데이터 포인트를 나눌 수 있어서 이런 데이터셋에는 잘 들어 맞지 않음"
   ]
  },
  {
   "cell_type": "markdown",
   "metadata": {
    "colab_type": "text",
    "id": "AkI0849chSxp"
   },
   "source": [
    "특성을 추가하여 확장 (2차원 -> 3차원)\n",
    "\n",
    "- 특성1에서 유용한 세 번째 특성을 추가하여 확장한 데이터 세트\n",
    "- 3차원 산점도로 표현"
   ]
  },
  {
   "cell_type": "code",
   "execution_count": 5,
   "metadata": {
    "colab": {
     "base_uri": "https://localhost:8080/",
     "height": 336
    },
    "colab_type": "code",
    "executionInfo": {
     "elapsed": 1292,
     "status": "ok",
     "timestamp": 1597157150877,
     "user": {
      "displayName": "oz To",
      "photoUrl": "",
      "userId": "12937505880450462933"
     },
     "user_tz": -540
    },
    "id": "ITDdD1leg7lh",
    "outputId": "42706100-2243-43d0-f1d0-56a0e019230c"
   },
   "outputs": [],
   "source": [
    "from mpl_toolkits.mplot3d import Axes3D, axes3d\n",
    "import numpy as np\n",
    "\n",
    "# 두 번째 특성을 제곱하여 추가\n",
    "\n",
    "\n",
    "# 3차원 그래프\n",
    "\n",
    "\n",
    "# y == 0인 포인트를 먼저 그리고 그 다음 y == 1인 포인트를 그림\n",
    "\n"
   ]
  },
  {
   "cell_type": "markdown",
   "metadata": {
    "colab_type": "text",
    "id": "7aJSDLKVheOe"
   },
   "source": [
    "SVM을 이용하여 분류\n",
    "\n",
    "- 선형 모델과 3차원 공간의 평면을 사용해 두 클래스를 구분\n",
    "- 확장한 3차원 데이터 세트에서 선형 SVM이 만든 결정 경계"
   ]
  },
  {
   "cell_type": "code",
   "execution_count": 6,
   "metadata": {
    "colab": {
     "base_uri": "https://localhost:8080/",
     "height": 336
    },
    "colab_type": "code",
    "executionInfo": {
     "elapsed": 1112,
     "status": "ok",
     "timestamp": 1597157598104,
     "user": {
      "displayName": "oz To",
      "photoUrl": "",
      "userId": "12937505880450462933"
     },
     "user_tz": -540
    },
    "id": "zMAStB87hjAl",
    "outputId": "2a4cf59f-28bc-43c1-e4e0-bedafa5d612a"
   },
   "outputs": [],
   "source": [
    "# 선형 결정 경계 그리기\n"
   ]
  },
  {
   "cell_type": "code",
   "execution_count": 7,
   "metadata": {
    "colab": {
     "base_uri": "https://localhost:8080/",
     "height": 296
    },
    "colab_type": "code",
    "executionInfo": {
     "elapsed": 867,
     "status": "ok",
     "timestamp": 1597157603803,
     "user": {
      "displayName": "oz To",
      "photoUrl": "",
      "userId": "12937505880450462933"
     },
     "user_tz": -540
    },
    "id": "qvGANst-h0Y9",
    "outputId": "db20ac3c-08bf-43f3-fa95-60e10a4c6115"
   },
   "outputs": [],
   "source": [
    "# 분류 결과 시각화\n"
   ]
  },
  {
   "cell_type": "markdown",
   "metadata": {
    "colab_type": "text",
    "id": "Say8_fXOAbOR"
   },
   "source": [
    "- 원래 특성으로 투영해보면 이 선형 SVM 모델은 더 이상 선형이 아님\n",
    "- 직선보다 타원에 가까운 모습을 확인"
   ]
  },
  {
   "cell_type": "markdown",
   "metadata": {
    "colab_type": "text",
    "id": "eXNiw7z4iA49"
   },
   "source": [
    "## 커널 기법 (Kernel trick)\n",
    "\n",
    "- 데이터셋에 비선형 특성을 추가하여 선형 모델을 강력하게 만들 수 있음\n",
    "\n",
    "- 하지만, 어떤 특성을 추가해야 할지 알 수 없고, 특성을 많이 추가하면 연산 비용이 커짐\n",
    "\n",
    "- 커널 기법 : 새로운 특성을 만들지 않고 고차원 분류기를 학습시킬 수 있음 (데이터 포인트들의 거리를 계산 - 스칼라 곱)\n",
    "\n",
    "- 고차원 공간 맵핑 방법 : 가우시안 커널, RBF (Radial Basis Function) 커널\n",
    "\n",
    "- 주로 RBF 커널이 사용"
   ]
  },
  {
   "cell_type": "markdown",
   "metadata": {
    "colab_type": "text",
    "id": "-Q8jB_s2i3-X"
   },
   "source": [
    "## SVM\n",
    "\n",
    "- Support Vector : 클래스 사이의 경계에 위치한 데이터 포인트\n",
    "\n",
    "- 새로운 데이터 포인트에 대해 예측하려면 각 서포트 벡터와의 거리를 측정 -> SVC 객체의 dual_coef_ 속성에 저장"
   ]
  },
  {
   "cell_type": "code",
   "execution_count": 8,
   "metadata": {
    "colab": {
     "base_uri": "https://localhost:8080/",
     "height": 280
    },
    "colab_type": "code",
    "executionInfo": {
     "elapsed": 991,
     "status": "ok",
     "timestamp": 1597157935232,
     "user": {
      "displayName": "oz To",
      "photoUrl": "",
      "userId": "12937505880450462933"
     },
     "user_tz": -540
    },
    "id": "ezJArAPqjKdy",
    "outputId": "16f49906-c185-498b-bde6-4fe3c7e2388e"
   },
   "outputs": [],
   "source": [
    "# RBF 커널을 이용한 SVM으로 만든 결정 경계와 서포트 벡터 시각화\n",
    "from sklearn.svm import SVC\n",
    "\n",
    "X, y = mglearn.tools.make_handcrafted_dataset()\n",
    "\n",
    "# 데이터 포인트 그리기\n",
    "\n",
    "\n",
    "# 서포트 벡터\n",
    "\n",
    "\n",
    "# dual_coef_의 부호에 의해 서포트 벡터의 클래스 레이블이 결정\n"
   ]
  },
  {
   "cell_type": "markdown",
   "metadata": {
    "colab_type": "text",
    "id": "g8XKp7ksC6mH"
   },
   "source": [
    "- 선형이 아닌 부드러운 비선형 경계를 만들어냄\n",
    "- C와 gamma 두 매개변수를 사용"
   ]
  },
  {
   "cell_type": "markdown",
   "metadata": {
    "colab_type": "text",
    "id": "xMqpyPngjbN-"
   },
   "source": [
    "#### SVM의 튜닝 (C, gamma)\n",
    "\n",
    "- gamma 매개변수는 가우시안 커널 폭의 역수에 해당\n",
    " - gamma 매개변수가 하나의 훈련 샘플이 미치는 영향의 범위를 결정\n",
    " - 가우시안 커널의 반경이 클수록 훈련 샘플의 영향 범위도 커짐\n",
    "\n",
    "- C 매개변수는 선형 모델에서 사용한 것과 비슷한 규제 매개변수\n",
    " - 각 포인트의 중요도(정확히는 dual_coef_ 값)를 제한"
   ]
  },
  {
   "cell_type": "code",
   "execution_count": 9,
   "metadata": {
    "colab": {
     "base_uri": "https://localhost:8080/",
     "height": 645
    },
    "colab_type": "code",
    "executionInfo": {
     "elapsed": 7233,
     "status": "ok",
     "timestamp": 1597158858056,
     "user": {
      "displayName": "oz To",
      "photoUrl": "",
      "userId": "12937505880450462933"
     },
     "user_tz": -540
    },
    "id": "R1up-NPiEkBe",
    "outputId": "0096e159-7cf4-4af4-f6f6-f5c244f357b8"
   },
   "outputs": [],
   "source": [
    "# C와 gamma 매개변수 설정에 따른 결정 경계와 서포트 벡터 시각화\n"
   ]
  },
  {
   "cell_type": "markdown",
   "metadata": {
    "colab_type": "text",
    "id": "NDQkl_Amj1w4"
   },
   "source": [
    "#### SVM 실습 01\n",
    "\n",
    "유방암 데이터 셋에 SVM 적용"
   ]
  },
  {
   "cell_type": "code",
   "execution_count": 10,
   "metadata": {
    "colab": {
     "base_uri": "https://localhost:8080/",
     "height": 52
    },
    "colab_type": "code",
    "executionInfo": {
     "elapsed": 1003,
     "status": "ok",
     "timestamp": 1597158955332,
     "user": {
      "displayName": "oz To",
      "photoUrl": "",
      "userId": "12937505880450462933"
     },
     "user_tz": -540
    },
    "id": "ifyX3VdGkEXA",
    "outputId": "15135f14-665e-4ac7-939b-f5ddcfc9e796"
   },
   "outputs": [],
   "source": [
    "from sklearn.model_selection import train_test_split\n",
    "from sklearn.datasets import load_breast_cancer\n",
    "\n",
    "# 데이터 로드\n",
    "cancer = load_breast_cancer()\n",
    "\n",
    "X_train, X_test, y_train, y_test = train_test_split(cancer.data, \n",
    "                                                    cancer.target, \n",
    "                                                    random_state=0)\n",
    "\n",
    "# 모델 학습\n",
    "\n",
    "\n",
    "# 평가\n"
   ]
  },
  {
   "cell_type": "markdown",
   "metadata": {
    "colab_type": "text",
    "id": "tJCEfSR0klEQ"
   },
   "source": [
    "- 훈련 세트에는 완벽한 점수를 냈지만 테스트 세트에는 64% 정확도라서 이 모델은 상당히 과대적합\n",
    "\n",
    "- SVM은 잘 작동하는 편이지만 매개변수 설정과 데이터 스케일에 매우 민감\n",
    "\n",
    "- 특히 입력 특성의 범위가 비슷해야 하므로 각 특성의 최솟값과 최댓값을 로그 스케일로 변환"
   ]
  },
  {
   "cell_type": "code",
   "execution_count": 11,
   "metadata": {
    "colab": {
     "base_uri": "https://localhost:8080/",
     "height": 296
    },
    "colab_type": "code",
    "executionInfo": {
     "elapsed": 1604,
     "status": "ok",
     "timestamp": 1597158999978,
     "user": {
      "displayName": "oz To",
      "photoUrl": "",
      "userId": "12937505880450462933"
     },
     "user_tz": -540
    },
    "id": "YqCMJNuwkxG3",
    "outputId": "5295fa0a-e41b-4023-ea44-c1fcd94ca0da"
   },
   "outputs": [],
   "source": [
    "# 유방암 데이터 세트의 특성 값 범위 시각화 (y 축은 로그 스케일)\n"
   ]
  },
  {
   "cell_type": "markdown",
   "metadata": {
    "colab_type": "text",
    "id": "62Knzdplk94A"
   },
   "source": [
    "- 유방암 데이터셋의 특성은 자릿수 자체가 완전히 다름\n",
    "\n",
    "- 일부 모델(선형 모델 등)에서도 어느 정도 문제가 될 수 있지만, 커널 SVM에서는 영향이 아주 큼"
   ]
  },
  {
   "cell_type": "markdown",
   "metadata": {
    "colab_type": "text",
    "id": "Mi0KsmTwlIA-"
   },
   "source": [
    "##### SVM을 위한 전처리\n",
    "\n",
    "- 특성 값의 범위가 비슷해지도록 조정하는 것"
   ]
  },
  {
   "cell_type": "code",
   "execution_count": 12,
   "metadata": {
    "colab": {
     "base_uri": "https://localhost:8080/",
     "height": 123
    },
    "colab_type": "code",
    "executionInfo": {
     "elapsed": 945,
     "status": "ok",
     "timestamp": 1597159230622,
     "user": {
      "displayName": "oz To",
      "photoUrl": "",
      "userId": "12937505880450462933"
     },
     "user_tz": -540
    },
    "id": "d42fiC2YlLUY",
    "outputId": "f9583f5b-b4f8-45a6-cfc6-b8e150dc8484"
   },
   "outputs": [],
   "source": [
    "from sklearn.preprocessing import MinMaxScaler\n",
    "\n",
    "\n",
    "# 훈련데이터에 대해 스케일링 적용을 위한 조사\n",
    "\n",
    "\n",
    "# 훈련데이터에 대해 스케일링 적용\n",
    "\n",
    "# 테스트데이터에 대해 스케일링 적용\n",
    "\n",
    "\n"
   ]
  },
  {
   "cell_type": "markdown",
   "metadata": {
    "colab_type": "text",
    "id": "RNP8opdSmKwq"
   },
   "source": [
    "##### 스케일링된 데이터를 SVC에 적용하기"
   ]
  },
  {
   "cell_type": "code",
   "execution_count": 13,
   "metadata": {
    "colab": {
     "base_uri": "https://localhost:8080/",
     "height": 52
    },
    "colab_type": "code",
    "executionInfo": {
     "elapsed": 847,
     "status": "ok",
     "timestamp": 1597159251123,
     "user": {
      "displayName": "oz To",
      "photoUrl": "",
      "userId": "12937505880450462933"
     },
     "user_tz": -540
    },
    "id": "bJFfOYVtmOgG",
    "outputId": "f2e763d0-57a2-470c-e463-3447e4526628"
   },
   "outputs": [],
   "source": [
    "# gamma 파라미저 조정\n",
    "\n",
    "\n",
    "#평가\n"
   ]
  },
  {
   "cell_type": "markdown",
   "metadata": {
    "colab_type": "text",
    "id": "dhXiw-etmc-m"
   },
   "source": [
    "- 훈련 세트와 테스트 세트의 정확도가 100%에서는 조금 멀어졌지만 매우 비슷해서 확실히 과소적합된 상태\n",
    "\n",
    "- C나 gamma 값을 증가시켜 좀 더 복잡한 모델을 만들 수 있음"
   ]
  },
  {
   "cell_type": "code",
   "execution_count": 14,
   "metadata": {
    "colab": {
     "base_uri": "https://localhost:8080/",
     "height": 52
    },
    "colab_type": "code",
    "executionInfo": {
     "elapsed": 830,
     "status": "ok",
     "timestamp": 1597159424640,
     "user": {
      "displayName": "oz To",
      "photoUrl": "",
      "userId": "12937505880450462933"
     },
     "user_tz": -540
    },
    "id": "AsANJivxmj_Q",
    "outputId": "2b04ca17-44da-4de8-8b95-22be21a6a9e1"
   },
   "outputs": [],
   "source": [
    "# C 파라미터 조정\n",
    "\n",
    "\n",
    "#평가\n"
   ]
  },
  {
   "cell_type": "markdown",
   "metadata": {
    "colab_type": "text",
    "id": "hN04E6snm9Ug"
   },
   "source": [
    "- C 값을 증가시켰더니 모델의 성능이 향상"
   ]
  },
  {
   "cell_type": "markdown",
   "metadata": {
    "colab_type": "text",
    "id": "9W73DIoanAeP"
   },
   "source": [
    "## 장단점\n",
    "\n",
    "- SVM은 강력한 모델이며 다양한 데이터셋에서 잘 작동\n",
    "\n",
    "- SVM은 데이터의 특성이 몇 개 안 되더라도 복잡한 결정 경계를 만들 수 있음\n",
    "\n",
    "- 저차원과 고차원의 데이터(즉 특성이 적을 때와 많을 때)에 모두 잘 작동하지만 샘플이 많을 때는 잘 맞지 않음\n",
    "\n",
    "- 10,000개의 샘플 정도면 SVM 모델이 잘 작동하겠지만 100,000개 이상의 데이터셋에서는 속도와 메모리 관점에서 도전적인 과제\n",
    "\n",
    "- SVM의 또 하나의 단점은 데이터 전처리와 매개변수 설정에 신경을 많이 써야 한다는 점\n",
    "\n",
    "- 그런 이유로 대부분 랜덤 포레스트나 그래디언트 부스팅 같은 (전처리가 거의 또는 전혀 필요 없는) 트리 기반 모델을 애플리케이션에 많이 사용\n",
    "\n",
    "- SVM 모델은 분석하기도 어렵고 예측이 어떻게 결정되었는지 이해하기 어렵고 비전문가에게 모델을 설명하기가 난해함\n",
    "\n",
    "- 하지만 모든 특성이 비슷한 단위이고(예를 들면 모든 값이 픽셀의 컬러 강도) 스케일이 비슷하면 SVM을 시도해볼 만함\n",
    "\n",
    "- 커널 SVM에서 중요한 매개변수는 C와 gamma이며 모두 모델의 복잡도를 조정하며 둘 다 큰 값이 더 복잡한 모델을 만듬\n",
    "\n",
    "- 연관성이 많은 이 두 매개변수를 잘 설정하려면 C와 gamma를 함께 조정"
   ]
  }
 ],
 "metadata": {
  "colab": {
   "authorship_tag": "ABX9TyPp8ShO9hW06+80HCDOOhG8",
   "collapsed_sections": [],
   "name": "ml_12_지도학습_SVM.ipynb",
   "provenance": []
  },
  "kernelspec": {
   "display_name": "Python 3",
   "language": "python",
   "name": "python3"
  },
  "language_info": {
   "codemirror_mode": {
    "name": "ipython",
    "version": 3
   },
   "file_extension": ".py",
   "mimetype": "text/x-python",
   "name": "python",
   "nbconvert_exporter": "python",
   "pygments_lexer": "ipython3",
   "version": "3.7.6"
  }
 },
 "nbformat": 4,
 "nbformat_minor": 1
}
